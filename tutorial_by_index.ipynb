{
 "cells": [
  {
   "cell_type": "markdown",
   "metadata": {},
   "source": [
    "### Импорты, параметры ColBERT"
   ]
  },
  {
   "cell_type": "code",
   "execution_count": 1,
   "metadata": {},
   "outputs": [],
   "source": [
    "from interface import prepare_tsv, save_index, top_n_similar_by_index, Collection, pair_scores, load_model, get_query_emb_batch, cosine_similarity_batch\n",
    "import pandas as pd\n",
    "import numpy as np\n",
    "import os\n",
    "\n",
    "ckpt_pth = \"/home/sondors/Documents/ColBERT_weights/triples_X1_13_categories_use_ib_negatives/none/2024-01/26/10.49.44/checkpoints/colbert-5387-finish\"\n",
    "experiment = \"colbert-5387\"\n",
    "\n",
    "doc_maxlen = 300\n",
    "nbits = 2   # bits определяет количество битов у каждого измерения в семантическом пространстве во время индексации\n",
    "nranks = 1  # nranks определяет количество GPU для использования, если они доступны\n",
    "kmeans_niters = 4 # kmeans_niters указывает количество итераций k-means кластеризации; 4 — хороший и быстрый вариант по умолчанию.  "
   ]
  },
  {
   "cell_type": "markdown",
   "metadata": {},
   "source": [
    "Поставить свои пути"
   ]
  },
  {
   "cell_type": "code",
   "execution_count": 2,
   "metadata": {},
   "outputs": [],
   "source": [
    "pth_models = \"/home/sondors/Documents/price/ColBERT_data/18_categories/test/models_18_categories.csv\"\n",
    "dst_fld = \"/home/sondors/Documents/price/ColBERT/tutorial\"\n",
    "src_fld = \"/home/sondors/Documents/price/ColBERT/tutorial\""
   ]
  },
  {
   "cell_type": "markdown",
   "metadata": {},
   "source": [
    "### Подготовка моделей\n",
    "\n",
    "В данном примере готовим модели в качестве того на что матчить оффера. Данные должны быть в формате, пригодном для индексации с помощью ColBERT. В общем случае в индексе может быть и смесь моделей и уже ранее моделизованных офферов"
   ]
  },
  {
   "cell_type": "code",
   "execution_count": 3,
   "metadata": {},
   "outputs": [
    {
     "data": {
      "text/html": [
       "<div>\n",
       "<style scoped>\n",
       "    .dataframe tbody tr th:only-of-type {\n",
       "        vertical-align: middle;\n",
       "    }\n",
       "\n",
       "    .dataframe tbody tr th {\n",
       "        vertical-align: top;\n",
       "    }\n",
       "\n",
       "    .dataframe thead th {\n",
       "        text-align: right;\n",
       "    }\n",
       "</style>\n",
       "<table border=\"1\" class=\"dataframe\">\n",
       "  <thead>\n",
       "    <tr style=\"text-align: right;\">\n",
       "      <th></th>\n",
       "      <th>model_id</th>\n",
       "      <th>name</th>\n",
       "      <th>brand_name</th>\n",
       "      <th>full_name</th>\n",
       "      <th>category_name</th>\n",
       "      <th>category_id</th>\n",
       "    </tr>\n",
       "  </thead>\n",
       "  <tbody>\n",
       "    <tr>\n",
       "      <th>0</th>\n",
       "      <td>623742</td>\n",
       "      <td>920-005619</td>\n",
       "      <td>Logitech</td>\n",
       "      <td>Logitech 920-005619</td>\n",
       "      <td>чехлы, обложки для гаджетов (телефонов, планше...</td>\n",
       "      <td>3994</td>\n",
       "    </tr>\n",
       "    <tr>\n",
       "      <th>1</th>\n",
       "      <td>721952</td>\n",
       "      <td>Zipper Bag</td>\n",
       "      <td>Hama</td>\n",
       "      <td>Hama Zipper Bag</td>\n",
       "      <td>чехлы, обложки для гаджетов (телефонов, планше...</td>\n",
       "      <td>3994</td>\n",
       "    </tr>\n",
       "    <tr>\n",
       "      <th>2</th>\n",
       "      <td>721970</td>\n",
       "      <td>CC-3064</td>\n",
       "      <td>Nokia</td>\n",
       "      <td>Nokia CC-3064</td>\n",
       "      <td>чехлы, обложки для гаджетов (телефонов, планше...</td>\n",
       "      <td>3994</td>\n",
       "    </tr>\n",
       "    <tr>\n",
       "      <th>3</th>\n",
       "      <td>751488</td>\n",
       "      <td>CKS-X7/R</td>\n",
       "      <td>Sony</td>\n",
       "      <td>Sony CKS-X7/R</td>\n",
       "      <td>чехлы, обложки для гаджетов (телефонов, планше...</td>\n",
       "      <td>3994</td>\n",
       "    </tr>\n",
       "    <tr>\n",
       "      <th>4</th>\n",
       "      <td>751989</td>\n",
       "      <td>EP-031023</td>\n",
       "      <td>Era Pro</td>\n",
       "      <td>Era Pro EP-031023</td>\n",
       "      <td>чехлы, обложки для гаджетов (телефонов, планше...</td>\n",
       "      <td>3994</td>\n",
       "    </tr>\n",
       "    <tr>\n",
       "      <th>...</th>\n",
       "      <td>...</td>\n",
       "      <td>...</td>\n",
       "      <td>...</td>\n",
       "      <td>...</td>\n",
       "      <td>...</td>\n",
       "      <td>...</td>\n",
       "    </tr>\n",
       "    <tr>\n",
       "      <th>99610</th>\n",
       "      <td>7049424</td>\n",
       "      <td>MD-108</td>\n",
       "      <td>Mivo</td>\n",
       "      <td>Mivo MD-108</td>\n",
       "      <td>портативная акустика</td>\n",
       "      <td>3904</td>\n",
       "    </tr>\n",
       "    <tr>\n",
       "      <th>99611</th>\n",
       "      <td>7049425</td>\n",
       "      <td>MD-165</td>\n",
       "      <td>Mivo</td>\n",
       "      <td>Mivo MD-165</td>\n",
       "      <td>портативная акустика</td>\n",
       "      <td>3904</td>\n",
       "    </tr>\n",
       "    <tr>\n",
       "      <th>99612</th>\n",
       "      <td>7049426</td>\n",
       "      <td>Boost 20W</td>\n",
       "      <td>Rocket</td>\n",
       "      <td>Rocket Boost 20W</td>\n",
       "      <td>портативная акустика</td>\n",
       "      <td>3904</td>\n",
       "    </tr>\n",
       "    <tr>\n",
       "      <th>99613</th>\n",
       "      <td>7049427</td>\n",
       "      <td>Motion 10W</td>\n",
       "      <td>Rocket</td>\n",
       "      <td>Rocket Motion 10W</td>\n",
       "      <td>портативная акустика</td>\n",
       "      <td>3904</td>\n",
       "    </tr>\n",
       "    <tr>\n",
       "      <th>99614</th>\n",
       "      <td>7049428</td>\n",
       "      <td>Z1</td>\n",
       "      <td>SmartBuy</td>\n",
       "      <td>SmartBuy Z1</td>\n",
       "      <td>портативная акустика</td>\n",
       "      <td>3904</td>\n",
       "    </tr>\n",
       "  </tbody>\n",
       "</table>\n",
       "<p>99615 rows × 6 columns</p>\n",
       "</div>"
      ],
      "text/plain": [
       "       model_id        name brand_name            full_name  \\\n",
       "0        623742  920-005619   Logitech  Logitech 920-005619   \n",
       "1        721952  Zipper Bag       Hama      Hama Zipper Bag   \n",
       "2        721970     CC-3064      Nokia        Nokia CC-3064   \n",
       "3        751488    CKS-X7/R       Sony        Sony CKS-X7/R   \n",
       "4        751989   EP-031023    Era Pro    Era Pro EP-031023   \n",
       "...         ...         ...        ...                  ...   \n",
       "99610   7049424      MD-108       Mivo          Mivo MD-108   \n",
       "99611   7049425      MD-165       Mivo          Mivo MD-165   \n",
       "99612   7049426   Boost 20W     Rocket     Rocket Boost 20W   \n",
       "99613   7049427  Motion 10W     Rocket    Rocket Motion 10W   \n",
       "99614   7049428          Z1   SmartBuy          SmartBuy Z1   \n",
       "\n",
       "                                           category_name  category_id  \n",
       "0      чехлы, обложки для гаджетов (телефонов, планше...         3994  \n",
       "1      чехлы, обложки для гаджетов (телефонов, планше...         3994  \n",
       "2      чехлы, обложки для гаджетов (телефонов, планше...         3994  \n",
       "3      чехлы, обложки для гаджетов (телефонов, планше...         3994  \n",
       "4      чехлы, обложки для гаджетов (телефонов, планше...         3994  \n",
       "...                                                  ...          ...  \n",
       "99610                               портативная акустика         3904  \n",
       "99611                               портативная акустика         3904  \n",
       "99612                               портативная акустика         3904  \n",
       "99613                               портативная акустика         3904  \n",
       "99614                               портативная акустика         3904  \n",
       "\n",
       "[99615 rows x 6 columns]"
      ]
     },
     "execution_count": 3,
     "metadata": {},
     "output_type": "execute_result"
    }
   ],
   "source": [
    "df_models = pd.read_csv(pth_models, sep=\";\")\n",
    "df_models"
   ]
  },
  {
   "cell_type": "markdown",
   "metadata": {},
   "source": [
    "# ColBERT стандартное использование"
   ]
  },
  {
   "cell_type": "code",
   "execution_count": 3,
   "metadata": {},
   "outputs": [],
   "source": [
    "id_category = {\n",
    "    3902: 'диктофоны, портативные рекордеры',\n",
    "    510402: 'электронные книги',\n",
    "    4302: 'автомобильные телевизоры, мониторы',\n",
    "    2815: 'смарт-часы и браслеты',\n",
    "    3901: 'портативные медиаплееры',\n",
    "    3904: 'портативная акустика',\n",
    "    2801: 'мобильные телефоны',\n",
    "    3908: 'VR-гарнитуры (VR-очки, шлемы, очки виртуальной реальности, FPV очки для квадрокоптеров)',\n",
    "    510401: 'планшетные компьютеры и мини-планшеты',\n",
    "    2102: 'наушники, гарнитуры, наушники c микрофоном',\n",
    "    3903: 'радиоприемники, радиобудильники, радиочасы',\n",
    "    3907: 'магнитолы',\n",
    "    280801: 'GPS-навигаторы'\n",
    "    }\n",
    "\n",
    "for cat_id in id_category.keys():\n",
    "    category_models = df_models[df_models.category_id == cat_id].reset_index(drop=True)\n",
    "    prepare_tsv(category_models, dst_fld, cat_id)"
   ]
  },
  {
   "cell_type": "markdown",
   "metadata": {},
   "source": [
    "### Индексируем модели и сохраняем индекс на диск\n",
    "\n",
    "В id_category всего 13 категорий, в сумме 41037 шт моделей:\n",
    "\n",
    "- ColBERT bert-base-multilingual-cased_dim_768: индексация за 760 сек на CPU с 16 ядрами без GPU, вес индекса 109 Мб\n",
    "\n",
    "- ColBERTv2.0_dim_128: индексация за 790 сек на CPU с 16 ядрами без GPU, вес индекса 20.6 Мб"
   ]
  },
  {
   "cell_type": "code",
   "execution_count": 4,
   "metadata": {},
   "outputs": [
    {
     "name": "stdout",
     "output_type": "stream",
     "text": [
      "[Apr 11, 12:41:39] #> Loading collection...\n",
      "0M \n",
      "\n",
      "\n",
      "[Apr 11, 12:41:39] #> Note: Output directory /home/sondors/Documents/price/ColBERT/tutorial/colbert-5387/indexes/models_3902_2bits already exists\n",
      "\n",
      "\n",
      "[Apr 11, 12:41:39] #> Will delete 10 files already at /home/sondors/Documents/price/ColBERT/tutorial/colbert-5387/indexes/models_3902_2bits in 20 seconds...\n",
      "#> Starting...\n",
      "nranks = 1 \t num_gpus = 1 \t device=0\n",
      "{\n",
      "    \"query_token_id\": \"[unused0]\",\n",
      "    \"doc_token_id\": \"[unused1]\",\n",
      "    \"query_token\": \"[Q]\",\n",
      "    \"doc_token\": \"[D]\",\n",
      "    \"ncells\": null,\n",
      "    \"centroid_score_threshold\": null,\n",
      "    \"ndocs\": null,\n",
      "    \"load_index_with_mmap\": false,\n",
      "    \"index_path\": null,\n",
      "    \"nbits\": 2,\n",
      "    \"kmeans_niters\": 4,\n",
      "    \"resume\": false,\n",
      "    \"similarity\": \"cosine\",\n",
      "    \"bsize\": 64,\n",
      "    \"accumsteps\": 1,\n",
      "    \"lr\": 0.0001,\n",
      "    \"maxsteps\": 5387,\n",
      "    \"save_every\": null,\n",
      "    \"warmup\": 0,\n",
      "    \"warmup_bert\": null,\n",
      "    \"relu\": false,\n",
      "    \"nway\": 2,\n",
      "    \"use_ib_negatives\": true,\n",
      "    \"reranker\": false,\n",
      "    \"distillation_alpha\": 1.0,\n",
      "    \"ignore_scores\": false,\n",
      "    \"model_name\": null,\n",
      "    \"query_maxlen\": 32,\n",
      "    \"attend_to_mask_tokens\": false,\n",
      "    \"interaction\": \"colbert\",\n",
      "    \"dim\": 128,\n",
      "    \"doc_maxlen\": 300,\n",
      "    \"mask_punctuation\": true,\n",
      "    \"checkpoint\": \"\\/home\\/sondors\\/Documents\\/ColBERT_weights\\/triples_X1_13_categories_use_ib_negatives\\/none\\/2024-01\\/26\\/10.49.44\\/checkpoints\\/colbert-5387-finish\",\n",
      "    \"triples\": \"\\/mnt\\/vdb1\\/Datasets\\/ColBERT_data\\/13_categories\\/train\\/triples_X1_13_categories_shuffle.json\",\n",
      "    \"collection\": \"\\/home\\/sondors\\/Documents\\/price\\/ColBERT\\/tutorial\\/tsv\\/3902_models.tsv\",\n",
      "    \"queries\": \"\\/mnt\\/vdb1\\/Datasets\\/ColBERT_data\\/13_categories\\/train\\/queries_train_13_categories.tsv\",\n",
      "    \"index_name\": \"models_3902_2bits\",\n",
      "    \"overwrite\": false,\n",
      "    \"root\": \"\\/home\\/sondors\\/Documents\\/price\\/ColBERT\\/tutorial\",\n",
      "    \"experiment\": \"colbert-5387\",\n",
      "    \"index_root\": null,\n",
      "    \"name\": \"2024-04\\/11\\/12.41.36\",\n",
      "    \"rank\": 0,\n",
      "    \"nranks\": 1,\n",
      "    \"amp\": true,\n",
      "    \"gpus\": 1\n",
      "}\n",
      "[Apr 11, 12:42:02] [0] \t\t # of sampled PIDs = 488 \t sampled_pids[:3] = [213, 375, 5]\n",
      "[Apr 11, 12:42:02] [0] \t\t #> Encoding 488 passages..\n",
      "[Apr 11, 12:42:03] [0] \t\t avg_doclen_est = 9.829917907714844 \t len(local_sample) = 488\n",
      "[Apr 11, 12:42:03] [0] \t\t Creaing 1,024 partitions.\n",
      "[Apr 11, 12:42:03] [0] \t\t *Estimated* 4,796 embeddings.\n",
      "[Apr 11, 12:42:03] [0] \t\t #> Saving the indexing plan to /home/sondors/Documents/price/ColBERT/tutorial/colbert-5387/indexes/models_3902_2bits/plan.json ..\n",
      "Clustering 4558 points in 128D to 1024 clusters, redo 1 times, 4 iterations\n",
      "  Preprocessing in 0.00 s\n",
      "  Iteration 3 (0.00 s, search 0.00 s): objective=410.147 imbalance=1.531 nsplit=0       \n",
      "[Apr 11, 12:42:03] Loading decompress_residuals_cpp extension (set COLBERT_LOAD_TORCH_EXTENSION_VERBOSE=True for more info)...\n"
     ]
    },
    {
     "name": "stderr",
     "output_type": "stream",
     "text": [
      "WARNING clustering 4558 points to 1024 centroids: please provide at least 39936 training points\n"
     ]
    },
    {
     "name": "stdout",
     "output_type": "stream",
     "text": [
      "[Apr 11, 12:42:03] Loading packbits_cpp extension (set COLBERT_LOAD_TORCH_EXTENSION_VERBOSE=True for more info)...\n",
      "[0.022, 0.023, 0.02, 0.021, 0.021, 0.021, 0.023, 0.021, 0.017, 0.019, 0.019, 0.023, 0.02, 0.021, 0.02, 0.026, 0.02, 0.021, 0.022, 0.02, 0.021, 0.026, 0.022, 0.018, 0.02, 0.021, 0.023, 0.023, 0.024, 0.019, 0.02, 0.019, 0.018, 0.018, 0.024, 0.022, 0.019, 0.022, 0.022, 0.022, 0.02, 0.022, 0.023, 0.017, 0.021, 0.019, 0.018, 0.019, 0.019, 0.021, 0.025, 0.021, 0.024, 0.019, 0.022, 0.017, 0.018, 0.021, 0.023, 0.02, 0.019, 0.021, 0.024, 0.023, 0.019, 0.022, 0.019, 0.02, 0.017, 0.022, 0.02, 0.02, 0.022, 0.021, 0.02, 0.021, 0.019, 0.021, 0.022, 0.021, 0.021, 0.019, 0.022, 0.021, 0.021, 0.022, 0.022, 0.023, 0.023, 0.019, 0.019, 0.025, 0.023, 0.019, 0.021, 0.022, 0.019, 0.021, 0.022, 0.019, 0.017, 0.018, 0.02, 0.02, 0.023, 0.023, 0.022, 0.02, 0.021, 0.021, 0.021, 0.025, 0.019, 0.019, 0.022, 0.018, 0.02, 0.022, 0.017, 0.02, 0.025, 0.021, 0.02, 0.026, 0.02, 0.019, 0.023, 0.021]\n",
      "[Apr 11, 12:42:03] #> Got bucket_cutoffs_quantiles = tensor([0.2500, 0.5000, 0.7500], device='cuda:0') and bucket_weights_quantiles = tensor([0.1250, 0.3750, 0.6250, 0.8750], device='cuda:0')\n",
      "[Apr 11, 12:42:03] #> Got bucket_cutoffs = tensor([-0.0109,  0.0002,  0.0117], device='cuda:0') and bucket_weights = tensor([-0.0270, -0.0042,  0.0047,  0.0282], device='cuda:0')\n",
      "[Apr 11, 12:42:03] avg_residual = 0.0208587646484375\n",
      "[Apr 11, 12:42:03] [0] \t\t #> Encoding 488 passages..\n"
     ]
    },
    {
     "name": "stderr",
     "output_type": "stream",
     "text": [
      "0it [00:00, ?it/s]"
     ]
    },
    {
     "name": "stdout",
     "output_type": "stream",
     "text": [
      "[Apr 11, 12:42:03] [0] \t\t #> Saving chunk 0: \t 488 passages and 4,797 embeddings. From #0 onward.\n",
      "[Apr 11, 12:42:03] [0] \t\t #> Checking all files were saved...\n",
      "[Apr 11, 12:42:03] [0] \t\t Found all files!\n",
      "[Apr 11, 12:42:03] [0] \t\t #> Building IVF...\n",
      "[Apr 11, 12:42:03] [0] \t\t #> Loading codes...\n",
      "[Apr 11, 12:42:03] [0] \t\t Sorting codes...\n",
      "[Apr 11, 12:42:03] [0] \t\t Getting unique codes...\n",
      "[Apr 11, 12:42:03] #> Optimizing IVF to store map from centroids to list of pids..\n",
      "[Apr 11, 12:42:03] #> Building the emb2pid mapping..\n",
      "[Apr 11, 12:42:03] len(emb2pid) = 4797\n",
      "[Apr 11, 12:42:03] #> Saved optimized IVF to /home/sondors/Documents/price/ColBERT/tutorial/colbert-5387/indexes/models_3902_2bits/ivf.pid.pt\n",
      "[Apr 11, 12:42:03] [0] \t\t #> Saving the indexing metadata to /home/sondors/Documents/price/ColBERT/tutorial/colbert-5387/indexes/models_3902_2bits/metadata.json ..\n"
     ]
    },
    {
     "name": "stderr",
     "output_type": "stream",
     "text": [
      "1it [00:00,  3.97it/s]\n",
      "100%|██████████| 1/1 [00:00<00:00, 2600.31it/s]\n",
      "100%|██████████| 1024/1024 [00:00<00:00, 242612.40it/s]\n"
     ]
    },
    {
     "name": "stdout",
     "output_type": "stream",
     "text": [
      "#> Joined...\n",
      "[Apr 11, 12:42:04] #> Loading collection...\n",
      "0M \n",
      "\n",
      "\n",
      "[Apr 11, 12:42:04] #> Note: Output directory /home/sondors/Documents/price/ColBERT/tutorial/colbert-5387/indexes/models_510402_2bits already exists\n",
      "\n",
      "\n",
      "[Apr 11, 12:42:04] #> Will delete 10 files already at /home/sondors/Documents/price/ColBERT/tutorial/colbert-5387/indexes/models_510402_2bits in 20 seconds...\n",
      "#> Starting...\n",
      "nranks = 1 \t num_gpus = 1 \t device=0\n",
      "{\n",
      "    \"query_token_id\": \"[unused0]\",\n",
      "    \"doc_token_id\": \"[unused1]\",\n",
      "    \"query_token\": \"[Q]\",\n",
      "    \"doc_token\": \"[D]\",\n",
      "    \"ncells\": null,\n",
      "    \"centroid_score_threshold\": null,\n",
      "    \"ndocs\": null,\n",
      "    \"load_index_with_mmap\": false,\n",
      "    \"index_path\": null,\n",
      "    \"nbits\": 2,\n",
      "    \"kmeans_niters\": 4,\n",
      "    \"resume\": false,\n",
      "    \"similarity\": \"cosine\",\n",
      "    \"bsize\": 64,\n",
      "    \"accumsteps\": 1,\n",
      "    \"lr\": 0.0001,\n",
      "    \"maxsteps\": 5387,\n",
      "    \"save_every\": null,\n",
      "    \"warmup\": 0,\n",
      "    \"warmup_bert\": null,\n",
      "    \"relu\": false,\n",
      "    \"nway\": 2,\n",
      "    \"use_ib_negatives\": true,\n",
      "    \"reranker\": false,\n",
      "    \"distillation_alpha\": 1.0,\n",
      "    \"ignore_scores\": false,\n",
      "    \"model_name\": null,\n",
      "    \"query_maxlen\": 32,\n",
      "    \"attend_to_mask_tokens\": false,\n",
      "    \"interaction\": \"colbert\",\n",
      "    \"dim\": 128,\n",
      "    \"doc_maxlen\": 300,\n",
      "    \"mask_punctuation\": true,\n",
      "    \"checkpoint\": \"\\/home\\/sondors\\/Documents\\/ColBERT_weights\\/triples_X1_13_categories_use_ib_negatives\\/none\\/2024-01\\/26\\/10.49.44\\/checkpoints\\/colbert-5387-finish\",\n",
      "    \"triples\": \"\\/mnt\\/vdb1\\/Datasets\\/ColBERT_data\\/13_categories\\/train\\/triples_X1_13_categories_shuffle.json\",\n",
      "    \"collection\": \"\\/home\\/sondors\\/Documents\\/price\\/ColBERT\\/tutorial\\/tsv\\/510402_models.tsv\",\n",
      "    \"queries\": \"\\/mnt\\/vdb1\\/Datasets\\/ColBERT_data\\/13_categories\\/train\\/queries_train_13_categories.tsv\",\n",
      "    \"index_name\": \"models_510402_2bits\",\n",
      "    \"overwrite\": false,\n",
      "    \"root\": \"\\/home\\/sondors\\/Documents\\/price\\/ColBERT\\/tutorial\",\n",
      "    \"experiment\": \"colbert-5387\",\n",
      "    \"index_root\": null,\n",
      "    \"name\": \"2024-04\\/11\\/12.41.36\",\n",
      "    \"rank\": 0,\n",
      "    \"nranks\": 1,\n",
      "    \"amp\": true,\n",
      "    \"gpus\": 1\n",
      "}\n",
      "[Apr 11, 12:42:26] [0] \t\t # of sampled PIDs = 680 \t sampled_pids[:3] = [426, 10, 305]\n",
      "[Apr 11, 12:42:26] [0] \t\t #> Encoding 680 passages..\n",
      "[Apr 11, 12:42:27] [0] \t\t avg_doclen_est = 9.06323528289795 \t len(local_sample) = 680\n",
      "[Apr 11, 12:42:27] [0] \t\t Creaing 1,024 partitions.\n",
      "[Apr 11, 12:42:27] [0] \t\t *Estimated* 6,162 embeddings.\n",
      "[Apr 11, 12:42:27] [0] \t\t #> Saving the indexing plan to /home/sondors/Documents/price/ColBERT/tutorial/colbert-5387/indexes/models_510402_2bits/plan.json ..\n",
      "Clustering 5855 points in 128D to 1024 clusters, redo 1 times, 4 iterations\n",
      "  Preprocessing in 0.00 s\n",
      "  Iteration 3 (0.00 s, search 0.00 s): objective=810.372 imbalance=1.551 nsplit=0       \n",
      "[Apr 11, 12:42:27] Loading decompress_residuals_cpp extension (set COLBERT_LOAD_TORCH_EXTENSION_VERBOSE=True for more info)...\n"
     ]
    },
    {
     "name": "stderr",
     "output_type": "stream",
     "text": [
      "WARNING clustering 5855 points to 1024 centroids: please provide at least 39936 training points\n"
     ]
    },
    {
     "name": "stdout",
     "output_type": "stream",
     "text": [
      "[Apr 11, 12:42:27] Loading packbits_cpp extension (set COLBERT_LOAD_TORCH_EXTENSION_VERBOSE=True for more info)...\n",
      "[0.029, 0.03, 0.03, 0.028, 0.03, 0.028, 0.027, 0.029, 0.026, 0.029, 0.031, 0.031, 0.031, 0.03, 0.029, 0.031, 0.029, 0.026, 0.026, 0.028, 0.03, 0.033, 0.029, 0.031, 0.029, 0.029, 0.034, 0.031, 0.03, 0.03, 0.026, 0.028, 0.03, 0.029, 0.031, 0.036, 0.028, 0.029, 0.031, 0.029, 0.025, 0.032, 0.033, 0.026, 0.028, 0.029, 0.028, 0.028, 0.028, 0.031, 0.028, 0.029, 0.029, 0.027, 0.032, 0.029, 0.031, 0.026, 0.029, 0.031, 0.025, 0.026, 0.031, 0.031, 0.028, 0.028, 0.027, 0.036, 0.026, 0.029, 0.029, 0.029, 0.031, 0.029, 0.026, 0.028, 0.032, 0.026, 0.028, 0.026, 0.03, 0.028, 0.033, 0.028, 0.029, 0.032, 0.03, 0.03, 0.031, 0.027, 0.029, 0.03, 0.03, 0.023, 0.028, 0.028, 0.027, 0.031, 0.03, 0.026, 0.027, 0.025, 0.03, 0.029, 0.03, 0.029, 0.029, 0.031, 0.03, 0.031, 0.029, 0.031, 0.028, 0.026, 0.027, 0.024, 0.029, 0.027, 0.026, 0.029, 0.029, 0.031, 0.03, 0.034, 0.028, 0.027, 0.032, 0.03]\n",
      "[Apr 11, 12:42:27] #> Got bucket_cutoffs_quantiles = tensor([0.2500, 0.5000, 0.7500], device='cuda:0') and bucket_weights_quantiles = tensor([0.1250, 0.3750, 0.6250, 0.8750], device='cuda:0')\n",
      "[Apr 11, 12:42:27] #> Got bucket_cutoffs = tensor([-0.0168,  0.0002,  0.0175], device='cuda:0') and bucket_weights = tensor([-0.0399, -0.0063,  0.0069,  0.0407], device='cuda:0')\n",
      "[Apr 11, 12:42:27] avg_residual = 0.029052734375\n",
      "[Apr 11, 12:42:27] [0] \t\t #> Encoding 680 passages..\n"
     ]
    },
    {
     "name": "stderr",
     "output_type": "stream",
     "text": [
      "0it [00:00, ?it/s]"
     ]
    },
    {
     "name": "stdout",
     "output_type": "stream",
     "text": [
      "[Apr 11, 12:42:28] [0] \t\t #> Saving chunk 0: \t 680 passages and 6,163 embeddings. From #0 onward.\n",
      "[Apr 11, 12:42:28] [0] \t\t #> Checking all files were saved...\n",
      "[Apr 11, 12:42:28] [0] \t\t Found all files!\n",
      "[Apr 11, 12:42:28] [0] \t\t #> Building IVF...\n",
      "[Apr 11, 12:42:28] [0] \t\t #> Loading codes...\n",
      "[Apr 11, 12:42:28] [0] \t\t Sorting codes...\n",
      "[Apr 11, 12:42:28] [0] \t\t Getting unique codes...\n",
      "[Apr 11, 12:42:28] #> Optimizing IVF to store map from centroids to list of pids..\n",
      "[Apr 11, 12:42:28] #> Building the emb2pid mapping..\n",
      "[Apr 11, 12:42:28] len(emb2pid) = 6163\n",
      "[Apr 11, 12:42:28] #> Saved optimized IVF to /home/sondors/Documents/price/ColBERT/tutorial/colbert-5387/indexes/models_510402_2bits/ivf.pid.pt\n",
      "[Apr 11, 12:42:28] [0] \t\t #> Saving the indexing metadata to /home/sondors/Documents/price/ColBERT/tutorial/colbert-5387/indexes/models_510402_2bits/metadata.json ..\n"
     ]
    },
    {
     "name": "stderr",
     "output_type": "stream",
     "text": [
      "1it [00:00,  4.16it/s]\n",
      "100%|██████████| 1/1 [00:00<00:00, 4728.64it/s]\n",
      "100%|██████████| 1024/1024 [00:00<00:00, 267816.13it/s]\n"
     ]
    },
    {
     "name": "stdout",
     "output_type": "stream",
     "text": [
      "#> Joined...\n",
      "[Apr 11, 12:42:28] #> Loading collection...\n",
      "0M \n",
      "\n",
      "\n",
      "[Apr 11, 12:42:28] #> Note: Output directory /home/sondors/Documents/price/ColBERT/tutorial/colbert-5387/indexes/models_4302_2bits already exists\n",
      "\n",
      "\n",
      "[Apr 11, 12:42:28] #> Will delete 10 files already at /home/sondors/Documents/price/ColBERT/tutorial/colbert-5387/indexes/models_4302_2bits in 20 seconds...\n",
      "#> Starting...\n",
      "nranks = 1 \t num_gpus = 1 \t device=0\n",
      "{\n",
      "    \"query_token_id\": \"[unused0]\",\n",
      "    \"doc_token_id\": \"[unused1]\",\n",
      "    \"query_token\": \"[Q]\",\n",
      "    \"doc_token\": \"[D]\",\n",
      "    \"ncells\": null,\n",
      "    \"centroid_score_threshold\": null,\n",
      "    \"ndocs\": null,\n",
      "    \"load_index_with_mmap\": false,\n",
      "    \"index_path\": null,\n",
      "    \"nbits\": 2,\n",
      "    \"kmeans_niters\": 4,\n",
      "    \"resume\": false,\n",
      "    \"similarity\": \"cosine\",\n",
      "    \"bsize\": 64,\n",
      "    \"accumsteps\": 1,\n",
      "    \"lr\": 0.0001,\n",
      "    \"maxsteps\": 5387,\n",
      "    \"save_every\": null,\n",
      "    \"warmup\": 0,\n",
      "    \"warmup_bert\": null,\n",
      "    \"relu\": false,\n",
      "    \"nway\": 2,\n",
      "    \"use_ib_negatives\": true,\n",
      "    \"reranker\": false,\n",
      "    \"distillation_alpha\": 1.0,\n",
      "    \"ignore_scores\": false,\n",
      "    \"model_name\": null,\n",
      "    \"query_maxlen\": 32,\n",
      "    \"attend_to_mask_tokens\": false,\n",
      "    \"interaction\": \"colbert\",\n",
      "    \"dim\": 128,\n",
      "    \"doc_maxlen\": 300,\n",
      "    \"mask_punctuation\": true,\n",
      "    \"checkpoint\": \"\\/home\\/sondors\\/Documents\\/ColBERT_weights\\/triples_X1_13_categories_use_ib_negatives\\/none\\/2024-01\\/26\\/10.49.44\\/checkpoints\\/colbert-5387-finish\",\n",
      "    \"triples\": \"\\/mnt\\/vdb1\\/Datasets\\/ColBERT_data\\/13_categories\\/train\\/triples_X1_13_categories_shuffle.json\",\n",
      "    \"collection\": \"\\/home\\/sondors\\/Documents\\/price\\/ColBERT\\/tutorial\\/tsv\\/4302_models.tsv\",\n",
      "    \"queries\": \"\\/mnt\\/vdb1\\/Datasets\\/ColBERT_data\\/13_categories\\/train\\/queries_train_13_categories.tsv\",\n",
      "    \"index_name\": \"models_4302_2bits\",\n",
      "    \"overwrite\": false,\n",
      "    \"root\": \"\\/home\\/sondors\\/Documents\\/price\\/ColBERT\\/tutorial\",\n",
      "    \"experiment\": \"colbert-5387\",\n",
      "    \"index_root\": null,\n",
      "    \"name\": \"2024-04\\/11\\/12.41.36\",\n",
      "    \"rank\": 0,\n",
      "    \"nranks\": 1,\n",
      "    \"amp\": true,\n",
      "    \"gpus\": 1\n",
      "}\n",
      "[Apr 11, 12:42:50] [0] \t\t # of sampled PIDs = 790 \t sampled_pids[:3] = [426, 750, 10]\n",
      "[Apr 11, 12:42:50] [0] \t\t #> Encoding 790 passages..\n",
      "[Apr 11, 12:42:51] [0] \t\t avg_doclen_est = 9.386075973510742 \t len(local_sample) = 790\n",
      "[Apr 11, 12:42:51] [0] \t\t Creaing 1,024 partitions.\n",
      "[Apr 11, 12:42:51] [0] \t\t *Estimated* 7,415 embeddings.\n",
      "[Apr 11, 12:42:51] [0] \t\t #> Saving the indexing plan to /home/sondors/Documents/price/ColBERT/tutorial/colbert-5387/indexes/models_4302_2bits/plan.json ..\n",
      "Clustering 7045 points in 128D to 1024 clusters, redo 1 times, 4 iterations\n",
      "  Preprocessing in 0.00 s\n",
      "  Iteration 3 (0.00 s, search 0.00 s): objective=955.271 imbalance=1.534 nsplit=0       \n",
      "[Apr 11, 12:42:51] Loading decompress_residuals_cpp extension (set COLBERT_LOAD_TORCH_EXTENSION_VERBOSE=True for more info)...\n"
     ]
    },
    {
     "name": "stderr",
     "output_type": "stream",
     "text": [
      "WARNING clustering 7045 points to 1024 centroids: please provide at least 39936 training points\n"
     ]
    },
    {
     "name": "stdout",
     "output_type": "stream",
     "text": [
      "[Apr 11, 12:42:51] Loading packbits_cpp extension (set COLBERT_LOAD_TORCH_EXTENSION_VERBOSE=True for more info)...\n",
      "[0.024, 0.026, 0.025, 0.025, 0.025, 0.025, 0.024, 0.027, 0.023, 0.026, 0.025, 0.029, 0.025, 0.025, 0.025, 0.032, 0.025, 0.025, 0.025, 0.024, 0.023, 0.029, 0.024, 0.026, 0.026, 0.027, 0.029, 0.029, 0.026, 0.024, 0.024, 0.027, 0.027, 0.024, 0.031, 0.028, 0.023, 0.024, 0.03, 0.025, 0.022, 0.027, 0.028, 0.025, 0.025, 0.025, 0.024, 0.026, 0.023, 0.027, 0.028, 0.024, 0.029, 0.025, 0.024, 0.024, 0.028, 0.021, 0.026, 0.028, 0.026, 0.024, 0.031, 0.027, 0.026, 0.023, 0.024, 0.024, 0.021, 0.026, 0.024, 0.027, 0.025, 0.025, 0.02, 0.028, 0.023, 0.025, 0.029, 0.022, 0.026, 0.026, 0.029, 0.023, 0.026, 0.026, 0.025, 0.028, 0.027, 0.021, 0.027, 0.024, 0.027, 0.025, 0.026, 0.024, 0.023, 0.026, 0.028, 0.024, 0.023, 0.021, 0.024, 0.025, 0.027, 0.025, 0.026, 0.026, 0.026, 0.027, 0.022, 0.026, 0.026, 0.022, 0.026, 0.022, 0.024, 0.023, 0.022, 0.024, 0.027, 0.026, 0.026, 0.028, 0.025, 0.023, 0.03, 0.025]\n",
      "[Apr 11, 12:42:51] #> Got bucket_cutoffs_quantiles = tensor([0.2500, 0.5000, 0.7500], device='cuda:0') and bucket_weights_quantiles = tensor([0.1250, 0.3750, 0.6250, 0.8750], device='cuda:0')\n",
      "[Apr 11, 12:42:51] #> Got bucket_cutoffs = tensor([-0.0145,  0.0001,  0.0145], device='cuda:0') and bucket_weights = tensor([-0.0356, -0.0052,  0.0055,  0.0353], device='cuda:0')\n",
      "[Apr 11, 12:42:51] avg_residual = 0.0254364013671875\n",
      "[Apr 11, 12:42:51] [0] \t\t #> Encoding 790 passages..\n"
     ]
    },
    {
     "name": "stderr",
     "output_type": "stream",
     "text": [
      "0it [00:00, ?it/s]"
     ]
    },
    {
     "name": "stdout",
     "output_type": "stream",
     "text": [
      "[Apr 11, 12:42:52] [0] \t\t #> Saving chunk 0: \t 790 passages and 7,415 embeddings. From #0 onward.\n",
      "[Apr 11, 12:42:52] [0] \t\t #> Checking all files were saved...\n",
      "[Apr 11, 12:42:52] [0] \t\t Found all files!\n",
      "[Apr 11, 12:42:52] [0] \t\t #> Building IVF...\n",
      "[Apr 11, 12:42:52] [0] \t\t #> Loading codes...\n",
      "[Apr 11, 12:42:52] [0] \t\t Sorting codes...\n",
      "[Apr 11, 12:42:52] [0] \t\t Getting unique codes...\n",
      "[Apr 11, 12:42:52] #> Optimizing IVF to store map from centroids to list of pids..\n",
      "[Apr 11, 12:42:52] #> Building the emb2pid mapping..\n",
      "[Apr 11, 12:42:52] len(emb2pid) = 7415\n",
      "[Apr 11, 12:42:52] #> Saved optimized IVF to /home/sondors/Documents/price/ColBERT/tutorial/colbert-5387/indexes/models_4302_2bits/ivf.pid.pt\n",
      "[Apr 11, 12:42:52] [0] \t\t #> Saving the indexing metadata to /home/sondors/Documents/price/ColBERT/tutorial/colbert-5387/indexes/models_4302_2bits/metadata.json ..\n"
     ]
    },
    {
     "name": "stderr",
     "output_type": "stream",
     "text": [
      "1it [00:00,  4.24it/s]\n",
      "100%|██████████| 1/1 [00:00<00:00, 4219.62it/s]\n",
      "100%|██████████| 1024/1024 [00:00<00:00, 248680.87it/s]\n"
     ]
    },
    {
     "name": "stdout",
     "output_type": "stream",
     "text": [
      "#> Joined...\n",
      "[Apr 11, 12:42:52] #> Loading collection...\n",
      "0M \n",
      "\n",
      "\n",
      "[Apr 11, 12:42:52] #> Note: Output directory /home/sondors/Documents/price/ColBERT/tutorial/colbert-5387/indexes/models_2815_2bits already exists\n",
      "\n",
      "\n",
      "[Apr 11, 12:42:52] #> Will delete 10 files already at /home/sondors/Documents/price/ColBERT/tutorial/colbert-5387/indexes/models_2815_2bits in 20 seconds...\n",
      "#> Starting...\n",
      "nranks = 1 \t num_gpus = 1 \t device=0\n",
      "{\n",
      "    \"query_token_id\": \"[unused0]\",\n",
      "    \"doc_token_id\": \"[unused1]\",\n",
      "    \"query_token\": \"[Q]\",\n",
      "    \"doc_token\": \"[D]\",\n",
      "    \"ncells\": null,\n",
      "    \"centroid_score_threshold\": null,\n",
      "    \"ndocs\": null,\n",
      "    \"load_index_with_mmap\": false,\n",
      "    \"index_path\": null,\n",
      "    \"nbits\": 2,\n",
      "    \"kmeans_niters\": 4,\n",
      "    \"resume\": false,\n",
      "    \"similarity\": \"cosine\",\n",
      "    \"bsize\": 64,\n",
      "    \"accumsteps\": 1,\n",
      "    \"lr\": 0.0001,\n",
      "    \"maxsteps\": 5387,\n",
      "    \"save_every\": null,\n",
      "    \"warmup\": 0,\n",
      "    \"warmup_bert\": null,\n",
      "    \"relu\": false,\n",
      "    \"nway\": 2,\n",
      "    \"use_ib_negatives\": true,\n",
      "    \"reranker\": false,\n",
      "    \"distillation_alpha\": 1.0,\n",
      "    \"ignore_scores\": false,\n",
      "    \"model_name\": null,\n",
      "    \"query_maxlen\": 32,\n",
      "    \"attend_to_mask_tokens\": false,\n",
      "    \"interaction\": \"colbert\",\n",
      "    \"dim\": 128,\n",
      "    \"doc_maxlen\": 300,\n",
      "    \"mask_punctuation\": true,\n",
      "    \"checkpoint\": \"\\/home\\/sondors\\/Documents\\/ColBERT_weights\\/triples_X1_13_categories_use_ib_negatives\\/none\\/2024-01\\/26\\/10.49.44\\/checkpoints\\/colbert-5387-finish\",\n",
      "    \"triples\": \"\\/mnt\\/vdb1\\/Datasets\\/ColBERT_data\\/13_categories\\/train\\/triples_X1_13_categories_shuffle.json\",\n",
      "    \"collection\": \"\\/home\\/sondors\\/Documents\\/price\\/ColBERT\\/tutorial\\/tsv\\/2815_models.tsv\",\n",
      "    \"queries\": \"\\/mnt\\/vdb1\\/Datasets\\/ColBERT_data\\/13_categories\\/train\\/queries_train_13_categories.tsv\",\n",
      "    \"index_name\": \"models_2815_2bits\",\n",
      "    \"overwrite\": false,\n",
      "    \"root\": \"\\/home\\/sondors\\/Documents\\/price\\/ColBERT\\/tutorial\",\n",
      "    \"experiment\": \"colbert-5387\",\n",
      "    \"index_root\": null,\n",
      "    \"name\": \"2024-04\\/11\\/12.41.36\",\n",
      "    \"rank\": 0,\n",
      "    \"nranks\": 1,\n",
      "    \"amp\": true,\n",
      "    \"gpus\": 1\n",
      "}\n",
      "[Apr 11, 12:43:14] [0] \t\t # of sampled PIDs = 2577 \t sampled_pids[:3] = [1706, 41, 1223]\n",
      "[Apr 11, 12:43:14] [0] \t\t #> Encoding 2577 passages..\n",
      "[Apr 11, 12:43:16] [0] \t\t avg_doclen_est = 9.804036140441895 \t len(local_sample) = 2,577\n",
      "[Apr 11, 12:43:16] [0] \t\t Creaing 2,048 partitions.\n",
      "[Apr 11, 12:43:16] [0] \t\t *Estimated* 25,265 embeddings.\n",
      "[Apr 11, 12:43:16] [0] \t\t #> Saving the indexing plan to /home/sondors/Documents/price/ColBERT/tutorial/colbert-5387/indexes/models_2815_2bits/plan.json ..\n",
      "Clustering 24002 points in 128D to 2048 clusters, redo 1 times, 4 iterations\n",
      "  Preprocessing in 0.00 s\n",
      "  Iteration 3 (0.02 s, search 0.02 s): objective=4198.05 imbalance=1.557 nsplit=0       \n",
      "[Apr 11, 12:43:16] Loading decompress_residuals_cpp extension (set COLBERT_LOAD_TORCH_EXTENSION_VERBOSE=True for more info)...\n"
     ]
    },
    {
     "name": "stderr",
     "output_type": "stream",
     "text": [
      "WARNING clustering 24002 points to 2048 centroids: please provide at least 79872 training points\n"
     ]
    },
    {
     "name": "stdout",
     "output_type": "stream",
     "text": [
      "[Apr 11, 12:43:17] Loading packbits_cpp extension (set COLBERT_LOAD_TORCH_EXTENSION_VERBOSE=True for more info)...\n",
      "[0.03, 0.031, 0.03, 0.029, 0.031, 0.031, 0.03, 0.031, 0.025, 0.031, 0.029, 0.034, 0.031, 0.032, 0.028, 0.033, 0.028, 0.029, 0.029, 0.029, 0.029, 0.03, 0.03, 0.03, 0.029, 0.031, 0.032, 0.034, 0.034, 0.032, 0.026, 0.029, 0.031, 0.029, 0.032, 0.033, 0.03, 0.028, 0.034, 0.03, 0.028, 0.029, 0.032, 0.028, 0.03, 0.03, 0.028, 0.029, 0.032, 0.03, 0.029, 0.029, 0.033, 0.027, 0.034, 0.027, 0.031, 0.027, 0.032, 0.034, 0.029, 0.029, 0.034, 0.033, 0.029, 0.03, 0.027, 0.032, 0.026, 0.029, 0.028, 0.029, 0.031, 0.028, 0.026, 0.029, 0.028, 0.029, 0.03, 0.027, 0.031, 0.027, 0.029, 0.028, 0.029, 0.033, 0.032, 0.032, 0.031, 0.026, 0.031, 0.029, 0.033, 0.026, 0.032, 0.029, 0.03, 0.032, 0.032, 0.027, 0.026, 0.027, 0.029, 0.032, 0.033, 0.032, 0.034, 0.033, 0.028, 0.028, 0.029, 0.031, 0.028, 0.027, 0.029, 0.027, 0.028, 0.03, 0.03, 0.031, 0.034, 0.028, 0.029, 0.033, 0.028, 0.027, 0.031, 0.032]\n",
      "[Apr 11, 12:43:17] #> Got bucket_cutoffs_quantiles = tensor([0.2500, 0.5000, 0.7500], device='cuda:0') and bucket_weights_quantiles = tensor([0.1250, 0.3750, 0.6250, 0.8750], device='cuda:0')\n",
      "[Apr 11, 12:43:17] #> Got bucket_cutoffs = tensor([-0.0197,  0.0000,  0.0195], device='cuda:0') and bucket_weights = tensor([-0.0418, -0.0078,  0.0079,  0.0416], device='cuda:0')\n",
      "[Apr 11, 12:43:17] avg_residual = 0.02996826171875\n",
      "[Apr 11, 12:43:17] [0] \t\t #> Encoding 2577 passages..\n"
     ]
    },
    {
     "name": "stderr",
     "output_type": "stream",
     "text": [
      "0it [00:00, ?it/s]"
     ]
    },
    {
     "name": "stdout",
     "output_type": "stream",
     "text": [
      "[Apr 11, 12:43:18] [0] \t\t #> Saving chunk 0: \t 2,577 passages and 25,265 embeddings. From #0 onward.\n",
      "[Apr 11, 12:43:18] [0] \t\t #> Checking all files were saved...\n",
      "[Apr 11, 12:43:18] [0] \t\t Found all files!\n",
      "[Apr 11, 12:43:18] [0] \t\t #> Building IVF...\n",
      "[Apr 11, 12:43:18] [0] \t\t #> Loading codes...\n",
      "[Apr 11, 12:43:18] [0] \t\t Sorting codes...\n",
      "[Apr 11, 12:43:18] [0] \t\t Getting unique codes...\n",
      "[Apr 11, 12:43:18] #> Optimizing IVF to store map from centroids to list of pids..\n",
      "[Apr 11, 12:43:18] #> Building the emb2pid mapping..\n",
      "[Apr 11, 12:43:18] len(emb2pid) = 25265\n",
      "[Apr 11, 12:43:18] #> Saved optimized IVF to /home/sondors/Documents/price/ColBERT/tutorial/colbert-5387/indexes/models_2815_2bits/ivf.pid.pt\n",
      "[Apr 11, 12:43:18] [0] \t\t #> Saving the indexing metadata to /home/sondors/Documents/price/ColBERT/tutorial/colbert-5387/indexes/models_2815_2bits/metadata.json ..\n"
     ]
    },
    {
     "name": "stderr",
     "output_type": "stream",
     "text": [
      "1it [00:01,  1.44s/it]\n",
      "100%|██████████| 1/1 [00:00<00:00, 4466.78it/s]\n",
      "100%|██████████| 2048/2048 [00:00<00:00, 250318.64it/s]\n"
     ]
    },
    {
     "name": "stdout",
     "output_type": "stream",
     "text": [
      "#> Joined...\n",
      "[Apr 11, 12:43:19] #> Loading collection...\n",
      "0M \n",
      "\n",
      "\n",
      "[Apr 11, 12:43:19] #> Note: Output directory /home/sondors/Documents/price/ColBERT/tutorial/colbert-5387/indexes/models_3901_2bits already exists\n",
      "\n",
      "\n",
      "[Apr 11, 12:43:19] #> Will delete 10 files already at /home/sondors/Documents/price/ColBERT/tutorial/colbert-5387/indexes/models_3901_2bits in 20 seconds...\n",
      "#> Starting...\n",
      "nranks = 1 \t num_gpus = 1 \t device=0\n",
      "{\n",
      "    \"query_token_id\": \"[unused0]\",\n",
      "    \"doc_token_id\": \"[unused1]\",\n",
      "    \"query_token\": \"[Q]\",\n",
      "    \"doc_token\": \"[D]\",\n",
      "    \"ncells\": null,\n",
      "    \"centroid_score_threshold\": null,\n",
      "    \"ndocs\": null,\n",
      "    \"load_index_with_mmap\": false,\n",
      "    \"index_path\": null,\n",
      "    \"nbits\": 2,\n",
      "    \"kmeans_niters\": 4,\n",
      "    \"resume\": false,\n",
      "    \"similarity\": \"cosine\",\n",
      "    \"bsize\": 64,\n",
      "    \"accumsteps\": 1,\n",
      "    \"lr\": 0.0001,\n",
      "    \"maxsteps\": 5387,\n",
      "    \"save_every\": null,\n",
      "    \"warmup\": 0,\n",
      "    \"warmup_bert\": null,\n",
      "    \"relu\": false,\n",
      "    \"nway\": 2,\n",
      "    \"use_ib_negatives\": true,\n",
      "    \"reranker\": false,\n",
      "    \"distillation_alpha\": 1.0,\n",
      "    \"ignore_scores\": false,\n",
      "    \"model_name\": null,\n",
      "    \"query_maxlen\": 32,\n",
      "    \"attend_to_mask_tokens\": false,\n",
      "    \"interaction\": \"colbert\",\n",
      "    \"dim\": 128,\n",
      "    \"doc_maxlen\": 300,\n",
      "    \"mask_punctuation\": true,\n",
      "    \"checkpoint\": \"\\/home\\/sondors\\/Documents\\/ColBERT_weights\\/triples_X1_13_categories_use_ib_negatives\\/none\\/2024-01\\/26\\/10.49.44\\/checkpoints\\/colbert-5387-finish\",\n",
      "    \"triples\": \"\\/mnt\\/vdb1\\/Datasets\\/ColBERT_data\\/13_categories\\/train\\/triples_X1_13_categories_shuffle.json\",\n",
      "    \"collection\": \"\\/home\\/sondors\\/Documents\\/price\\/ColBERT\\/tutorial\\/tsv\\/3901_models.tsv\",\n",
      "    \"queries\": \"\\/mnt\\/vdb1\\/Datasets\\/ColBERT_data\\/13_categories\\/train\\/queries_train_13_categories.tsv\",\n",
      "    \"index_name\": \"models_3901_2bits\",\n",
      "    \"overwrite\": false,\n",
      "    \"root\": \"\\/home\\/sondors\\/Documents\\/price\\/ColBERT\\/tutorial\",\n",
      "    \"experiment\": \"colbert-5387\",\n",
      "    \"index_root\": null,\n",
      "    \"name\": \"2024-04\\/11\\/12.41.36\",\n",
      "    \"rank\": 0,\n",
      "    \"nranks\": 1,\n",
      "    \"amp\": true,\n",
      "    \"gpus\": 1\n",
      "}\n",
      "[Apr 11, 12:43:41] [0] \t\t # of sampled PIDs = 847 \t sampled_pids[:3] = [426, 750, 10]\n",
      "[Apr 11, 12:43:41] [0] \t\t #> Encoding 847 passages..\n",
      "[Apr 11, 12:43:42] [0] \t\t avg_doclen_est = 9.46753215789795 \t len(local_sample) = 847\n",
      "[Apr 11, 12:43:42] [0] \t\t Creaing 1,024 partitions.\n",
      "[Apr 11, 12:43:42] [0] \t\t *Estimated* 8,018 embeddings.\n",
      "[Apr 11, 12:43:42] [0] \t\t #> Saving the indexing plan to /home/sondors/Documents/price/ColBERT/tutorial/colbert-5387/indexes/models_3901_2bits/plan.json ..\n",
      "Clustering 7619 points in 128D to 1024 clusters, redo 1 times, 4 iterations\n",
      "  Preprocessing in 0.00 s\n",
      "  Iteration 3 (0.01 s, search 0.00 s): objective=1212.24 imbalance=1.545 nsplit=0       \n",
      "[Apr 11, 12:43:42] Loading decompress_residuals_cpp extension (set COLBERT_LOAD_TORCH_EXTENSION_VERBOSE=True for more info)...\n"
     ]
    },
    {
     "name": "stderr",
     "output_type": "stream",
     "text": [
      "WARNING clustering 7619 points to 1024 centroids: please provide at least 39936 training points\n"
     ]
    },
    {
     "name": "stdout",
     "output_type": "stream",
     "text": [
      "[Apr 11, 12:43:42] Loading packbits_cpp extension (set COLBERT_LOAD_TORCH_EXTENSION_VERBOSE=True for more info)...\n",
      "[0.028, 0.033, 0.027, 0.032, 0.03, 0.03, 0.031, 0.03, 0.024, 0.029, 0.03, 0.032, 0.031, 0.033, 0.029, 0.032, 0.028, 0.028, 0.026, 0.028, 0.03, 0.031, 0.029, 0.03, 0.029, 0.032, 0.032, 0.033, 0.031, 0.029, 0.028, 0.031, 0.03, 0.028, 0.032, 0.031, 0.028, 0.03, 0.031, 0.032, 0.027, 0.028, 0.033, 0.03, 0.029, 0.027, 0.029, 0.028, 0.031, 0.029, 0.03, 0.031, 0.035, 0.027, 0.032, 0.025, 0.031, 0.029, 0.03, 0.034, 0.03, 0.026, 0.034, 0.034, 0.031, 0.029, 0.028, 0.031, 0.027, 0.028, 0.027, 0.03, 0.03, 0.029, 0.026, 0.027, 0.027, 0.028, 0.025, 0.027, 0.032, 0.026, 0.029, 0.028, 0.026, 0.031, 0.03, 0.033, 0.029, 0.025, 0.033, 0.031, 0.032, 0.024, 0.03, 0.031, 0.029, 0.03, 0.031, 0.026, 0.028, 0.024, 0.028, 0.029, 0.031, 0.029, 0.03, 0.029, 0.031, 0.029, 0.027, 0.029, 0.026, 0.024, 0.028, 0.024, 0.029, 0.028, 0.028, 0.03, 0.034, 0.028, 0.027, 0.033, 0.029, 0.026, 0.031, 0.032]\n",
      "[Apr 11, 12:43:42] #> Got bucket_cutoffs_quantiles = tensor([0.2500, 0.5000, 0.7500], device='cuda:0') and bucket_weights_quantiles = tensor([0.1250, 0.3750, 0.6250, 0.8750], device='cuda:0')\n",
      "[Apr 11, 12:43:42] #> Got bucket_cutoffs = tensor([-0.0185,  0.0001,  0.0190], device='cuda:0') and bucket_weights = tensor([-0.0402, -0.0071,  0.0075,  0.0417], device='cuda:0')\n",
      "[Apr 11, 12:43:42] avg_residual = 0.029327392578125\n"
     ]
    },
    {
     "name": "stderr",
     "output_type": "stream",
     "text": [
      "0it [00:00, ?it/s]"
     ]
    },
    {
     "name": "stdout",
     "output_type": "stream",
     "text": [
      "[Apr 11, 12:43:42] [0] \t\t #> Encoding 847 passages..\n",
      "[Apr 11, 12:43:43] [0] \t\t #> Saving chunk 0: \t 847 passages and 8,019 embeddings. From #0 onward.\n",
      "[Apr 11, 12:43:43] [0] \t\t #> Checking all files were saved...\n",
      "[Apr 11, 12:43:43] [0] \t\t Found all files!\n",
      "[Apr 11, 12:43:43] [0] \t\t #> Building IVF...\n",
      "[Apr 11, 12:43:43] [0] \t\t #> Loading codes...\n",
      "[Apr 11, 12:43:43] [0] \t\t Sorting codes...\n",
      "[Apr 11, 12:43:43] [0] \t\t Getting unique codes...\n",
      "[Apr 11, 12:43:43] #> Optimizing IVF to store map from centroids to list of pids..\n",
      "[Apr 11, 12:43:43] #> Building the emb2pid mapping..\n",
      "[Apr 11, 12:43:43] len(emb2pid) = 8019\n",
      "[Apr 11, 12:43:43] #> Saved optimized IVF to /home/sondors/Documents/price/ColBERT/tutorial/colbert-5387/indexes/models_3901_2bits/ivf.pid.pt\n",
      "[Apr 11, 12:43:43] [0] \t\t #> Saving the indexing metadata to /home/sondors/Documents/price/ColBERT/tutorial/colbert-5387/indexes/models_3901_2bits/metadata.json ..\n"
     ]
    },
    {
     "name": "stderr",
     "output_type": "stream",
     "text": [
      "1it [00:00,  4.02it/s]\n",
      "100%|██████████| 1/1 [00:00<00:00, 3292.23it/s]\n",
      "100%|██████████| 1024/1024 [00:00<00:00, 185559.81it/s]\n"
     ]
    },
    {
     "name": "stdout",
     "output_type": "stream",
     "text": [
      "#> Joined...\n",
      "[Apr 11, 12:43:43] #> Loading collection...\n",
      "0M \n",
      "\n",
      "\n",
      "[Apr 11, 12:43:43] #> Note: Output directory /home/sondors/Documents/price/ColBERT/tutorial/colbert-5387/indexes/models_3904_2bits already exists\n",
      "\n",
      "\n",
      "[Apr 11, 12:43:43] #> Will delete 10 files already at /home/sondors/Documents/price/ColBERT/tutorial/colbert-5387/indexes/models_3904_2bits in 20 seconds...\n",
      "#> Starting...\n",
      "nranks = 1 \t num_gpus = 1 \t device=0\n",
      "{\n",
      "    \"query_token_id\": \"[unused0]\",\n",
      "    \"doc_token_id\": \"[unused1]\",\n",
      "    \"query_token\": \"[Q]\",\n",
      "    \"doc_token\": \"[D]\",\n",
      "    \"ncells\": null,\n",
      "    \"centroid_score_threshold\": null,\n",
      "    \"ndocs\": null,\n",
      "    \"load_index_with_mmap\": false,\n",
      "    \"index_path\": null,\n",
      "    \"nbits\": 2,\n",
      "    \"kmeans_niters\": 4,\n",
      "    \"resume\": false,\n",
      "    \"similarity\": \"cosine\",\n",
      "    \"bsize\": 64,\n",
      "    \"accumsteps\": 1,\n",
      "    \"lr\": 0.0001,\n",
      "    \"maxsteps\": 5387,\n",
      "    \"save_every\": null,\n",
      "    \"warmup\": 0,\n",
      "    \"warmup_bert\": null,\n",
      "    \"relu\": false,\n",
      "    \"nway\": 2,\n",
      "    \"use_ib_negatives\": true,\n",
      "    \"reranker\": false,\n",
      "    \"distillation_alpha\": 1.0,\n",
      "    \"ignore_scores\": false,\n",
      "    \"model_name\": null,\n",
      "    \"query_maxlen\": 32,\n",
      "    \"attend_to_mask_tokens\": false,\n",
      "    \"interaction\": \"colbert\",\n",
      "    \"dim\": 128,\n",
      "    \"doc_maxlen\": 300,\n",
      "    \"mask_punctuation\": true,\n",
      "    \"checkpoint\": \"\\/home\\/sondors\\/Documents\\/ColBERT_weights\\/triples_X1_13_categories_use_ib_negatives\\/none\\/2024-01\\/26\\/10.49.44\\/checkpoints\\/colbert-5387-finish\",\n",
      "    \"triples\": \"\\/mnt\\/vdb1\\/Datasets\\/ColBERT_data\\/13_categories\\/train\\/triples_X1_13_categories_shuffle.json\",\n",
      "    \"collection\": \"\\/home\\/sondors\\/Documents\\/price\\/ColBERT\\/tutorial\\/tsv\\/3904_models.tsv\",\n",
      "    \"queries\": \"\\/mnt\\/vdb1\\/Datasets\\/ColBERT_data\\/13_categories\\/train\\/queries_train_13_categories.tsv\",\n",
      "    \"index_name\": \"models_3904_2bits\",\n",
      "    \"overwrite\": false,\n",
      "    \"root\": \"\\/home\\/sondors\\/Documents\\/price\\/ColBERT\\/tutorial\",\n",
      "    \"experiment\": \"colbert-5387\",\n",
      "    \"index_root\": null,\n",
      "    \"name\": \"2024-04\\/11\\/12.41.36\",\n",
      "    \"rank\": 0,\n",
      "    \"nranks\": 1,\n",
      "    \"amp\": true,\n",
      "    \"gpus\": 1\n",
      "}\n",
      "[Apr 11, 12:44:05] [0] \t\t # of sampled PIDs = 3800 \t sampled_pids[:3] = [1706, 3001, 41]\n",
      "[Apr 11, 12:44:05] [0] \t\t #> Encoding 3800 passages..\n",
      "[Apr 11, 12:44:07] [0] \t\t avg_doclen_est = 8.563684463500977 \t len(local_sample) = 3,800\n",
      "[Apr 11, 12:44:07] [0] \t\t Creaing 2,048 partitions.\n",
      "[Apr 11, 12:44:07] [0] \t\t *Estimated* 32,542 embeddings.\n",
      "[Apr 11, 12:44:07] [0] \t\t #> Saving the indexing plan to /home/sondors/Documents/price/ColBERT/tutorial/colbert-5387/indexes/models_3904_2bits/plan.json ..\n",
      "Clustering 30915 points in 128D to 2048 clusters, redo 1 times, 4 iterations\n",
      "  Preprocessing in 0.00 s\n",
      "  Iteration 3 (0.02 s, search 0.02 s): objective=7417.65 imbalance=1.579 nsplit=0       \n",
      "[Apr 11, 12:44:07] Loading decompress_residuals_cpp extension (set COLBERT_LOAD_TORCH_EXTENSION_VERBOSE=True for more info)...\n"
     ]
    },
    {
     "name": "stderr",
     "output_type": "stream",
     "text": [
      "WARNING clustering 30915 points to 2048 centroids: please provide at least 79872 training points\n"
     ]
    },
    {
     "name": "stdout",
     "output_type": "stream",
     "text": [
      "[Apr 11, 12:44:07] Loading packbits_cpp extension (set COLBERT_LOAD_TORCH_EXTENSION_VERBOSE=True for more info)...\n",
      "[0.036, 0.035, 0.034, 0.035, 0.037, 0.037, 0.036, 0.036, 0.03, 0.034, 0.034, 0.04, 0.035, 0.038, 0.033, 0.039, 0.033, 0.033, 0.035, 0.033, 0.035, 0.037, 0.036, 0.036, 0.034, 0.035, 0.036, 0.04, 0.037, 0.034, 0.033, 0.033, 0.036, 0.033, 0.04, 0.036, 0.035, 0.035, 0.041, 0.034, 0.031, 0.037, 0.038, 0.034, 0.034, 0.035, 0.035, 0.032, 0.036, 0.037, 0.034, 0.033, 0.038, 0.033, 0.037, 0.031, 0.034, 0.031, 0.037, 0.038, 0.035, 0.034, 0.041, 0.04, 0.036, 0.035, 0.031, 0.035, 0.031, 0.033, 0.034, 0.035, 0.035, 0.033, 0.03, 0.034, 0.037, 0.035, 0.035, 0.033, 0.034, 0.032, 0.034, 0.033, 0.033, 0.037, 0.035, 0.038, 0.034, 0.03, 0.039, 0.035, 0.037, 0.032, 0.036, 0.035, 0.034, 0.037, 0.038, 0.03, 0.031, 0.031, 0.032, 0.035, 0.037, 0.035, 0.037, 0.033, 0.033, 0.034, 0.031, 0.034, 0.031, 0.03, 0.034, 0.03, 0.032, 0.035, 0.033, 0.035, 0.038, 0.034, 0.035, 0.039, 0.033, 0.033, 0.04, 0.038]\n",
      "[Apr 11, 12:44:08] #> Got bucket_cutoffs_quantiles = tensor([0.2500, 0.5000, 0.7500], device='cuda:0') and bucket_weights_quantiles = tensor([0.1250, 0.3750, 0.6250, 0.8750], device='cuda:0')\n",
      "[Apr 11, 12:44:08] #> Got bucket_cutoffs = tensor([-0.0227,  0.0003,  0.0240], device='cuda:0') and bucket_weights = tensor([-0.0489, -0.0087,  0.0095,  0.0505], device='cuda:0')\n",
      "[Apr 11, 12:44:08] avg_residual = 0.034820556640625\n",
      "[Apr 11, 12:44:08] [0] \t\t #> Encoding 3800 passages..\n"
     ]
    },
    {
     "name": "stderr",
     "output_type": "stream",
     "text": [
      "0it [00:00, ?it/s]"
     ]
    },
    {
     "name": "stdout",
     "output_type": "stream",
     "text": [
      "[Apr 11, 12:44:09] [0] \t\t #> Saving chunk 0: \t 3,800 passages and 32,542 embeddings. From #0 onward.\n",
      "[Apr 11, 12:44:09] [0] \t\t #> Checking all files were saved...\n",
      "[Apr 11, 12:44:09] [0] \t\t Found all files!\n",
      "[Apr 11, 12:44:09] [0] \t\t #> Building IVF...\n",
      "[Apr 11, 12:44:09] [0] \t\t #> Loading codes...\n",
      "[Apr 11, 12:44:09] [0] \t\t Sorting codes...\n",
      "[Apr 11, 12:44:09] [0] \t\t Getting unique codes...\n",
      "[Apr 11, 12:44:09] #> Optimizing IVF to store map from centroids to list of pids..\n",
      "[Apr 11, 12:44:09] #> Building the emb2pid mapping..\n",
      "[Apr 11, 12:44:09] len(emb2pid) = 32542\n",
      "[Apr 11, 12:44:09] #> Saved optimized IVF to /home/sondors/Documents/price/ColBERT/tutorial/colbert-5387/indexes/models_3904_2bits/ivf.pid.pt\n",
      "[Apr 11, 12:44:09] [0] \t\t #> Saving the indexing metadata to /home/sondors/Documents/price/ColBERT/tutorial/colbert-5387/indexes/models_3904_2bits/metadata.json ..\n"
     ]
    },
    {
     "name": "stderr",
     "output_type": "stream",
     "text": [
      "1it [00:01,  1.19s/it]\n",
      "100%|██████████| 1/1 [00:00<00:00, 3647.22it/s]\n",
      "100%|██████████| 2048/2048 [00:00<00:00, 173948.70it/s]\n"
     ]
    },
    {
     "name": "stdout",
     "output_type": "stream",
     "text": [
      "#> Joined...\n",
      "[Apr 11, 12:44:09] #> Loading collection...\n",
      "0M \n",
      "\n",
      "\n",
      "[Apr 11, 12:44:09] #> Note: Output directory /home/sondors/Documents/price/ColBERT/tutorial/colbert-5387/indexes/models_2801_2bits already exists\n",
      "\n",
      "\n",
      "[Apr 11, 12:44:09] #> Will delete 10 files already at /home/sondors/Documents/price/ColBERT/tutorial/colbert-5387/indexes/models_2801_2bits in 20 seconds...\n",
      "#> Starting...\n",
      "nranks = 1 \t num_gpus = 1 \t device=0\n",
      "{\n",
      "    \"query_token_id\": \"[unused0]\",\n",
      "    \"doc_token_id\": \"[unused1]\",\n",
      "    \"query_token\": \"[Q]\",\n",
      "    \"doc_token\": \"[D]\",\n",
      "    \"ncells\": null,\n",
      "    \"centroid_score_threshold\": null,\n",
      "    \"ndocs\": null,\n",
      "    \"load_index_with_mmap\": false,\n",
      "    \"index_path\": null,\n",
      "    \"nbits\": 2,\n",
      "    \"kmeans_niters\": 4,\n",
      "    \"resume\": false,\n",
      "    \"similarity\": \"cosine\",\n",
      "    \"bsize\": 64,\n",
      "    \"accumsteps\": 1,\n",
      "    \"lr\": 0.0001,\n",
      "    \"maxsteps\": 5387,\n",
      "    \"save_every\": null,\n",
      "    \"warmup\": 0,\n",
      "    \"warmup_bert\": null,\n",
      "    \"relu\": false,\n",
      "    \"nway\": 2,\n",
      "    \"use_ib_negatives\": true,\n",
      "    \"reranker\": false,\n",
      "    \"distillation_alpha\": 1.0,\n",
      "    \"ignore_scores\": false,\n",
      "    \"model_name\": null,\n",
      "    \"query_maxlen\": 32,\n",
      "    \"attend_to_mask_tokens\": false,\n",
      "    \"interaction\": \"colbert\",\n",
      "    \"dim\": 128,\n",
      "    \"doc_maxlen\": 300,\n",
      "    \"mask_punctuation\": true,\n",
      "    \"checkpoint\": \"\\/home\\/sondors\\/Documents\\/ColBERT_weights\\/triples_X1_13_categories_use_ib_negatives\\/none\\/2024-01\\/26\\/10.49.44\\/checkpoints\\/colbert-5387-finish\",\n",
      "    \"triples\": \"\\/mnt\\/vdb1\\/Datasets\\/ColBERT_data\\/13_categories\\/train\\/triples_X1_13_categories_shuffle.json\",\n",
      "    \"collection\": \"\\/home\\/sondors\\/Documents\\/price\\/ColBERT\\/tutorial\\/tsv\\/2801_models.tsv\",\n",
      "    \"queries\": \"\\/mnt\\/vdb1\\/Datasets\\/ColBERT_data\\/13_categories\\/train\\/queries_train_13_categories.tsv\",\n",
      "    \"index_name\": \"models_2801_2bits\",\n",
      "    \"overwrite\": false,\n",
      "    \"root\": \"\\/home\\/sondors\\/Documents\\/price\\/ColBERT\\/tutorial\",\n",
      "    \"experiment\": \"colbert-5387\",\n",
      "    \"index_root\": null,\n",
      "    \"name\": \"2024-04\\/11\\/12.41.36\",\n",
      "    \"rank\": 0,\n",
      "    \"nranks\": 1,\n",
      "    \"amp\": true,\n",
      "    \"gpus\": 1\n",
      "}\n",
      "[Apr 11, 12:44:32] [0] \t\t # of sampled PIDs = 9494 \t sampled_pids[:3] = [6825, 166, 4892]\n",
      "[Apr 11, 12:44:32] [0] \t\t #> Encoding 9494 passages..\n",
      "[Apr 11, 12:44:35] [0] \t\t avg_doclen_est = 8.751526832580566 \t len(local_sample) = 9,494\n",
      "[Apr 11, 12:44:35] [0] \t\t Creaing 4,096 partitions.\n",
      "[Apr 11, 12:44:35] [0] \t\t *Estimated* 83,086 embeddings.\n",
      "[Apr 11, 12:44:35] [0] \t\t #> Saving the indexing plan to /home/sondors/Documents/price/ColBERT/tutorial/colbert-5387/indexes/models_2801_2bits/plan.json ..\n",
      "Clustering 78933 points in 128D to 4096 clusters, redo 1 times, 4 iterations\n",
      "  Preprocessing in 0.00 s\n",
      "  Iteration 2 (0.08 s, search 0.07 s): objective=16438.9 imbalance=1.503 nsplit=0       \r"
     ]
    },
    {
     "name": "stderr",
     "output_type": "stream",
     "text": [
      "WARNING clustering 78933 points to 4096 centroids: please provide at least 159744 training points\n"
     ]
    },
    {
     "name": "stdout",
     "output_type": "stream",
     "text": [
      "  Iteration 3 (0.11 s, search 0.10 s): objective=15876 imbalance=1.504 nsplit=0       \n",
      "[Apr 11, 12:44:35] Loading decompress_residuals_cpp extension (set COLBERT_LOAD_TORCH_EXTENSION_VERBOSE=True for more info)...\n",
      "[Apr 11, 12:44:36] Loading packbits_cpp extension (set COLBERT_LOAD_TORCH_EXTENSION_VERBOSE=True for more info)...\n",
      "[0.031, 0.031, 0.03, 0.032, 0.032, 0.033, 0.033, 0.031, 0.027, 0.032, 0.03, 0.034, 0.031, 0.034, 0.03, 0.034, 0.031, 0.03, 0.03, 0.029, 0.031, 0.035, 0.032, 0.031, 0.029, 0.034, 0.034, 0.036, 0.034, 0.033, 0.029, 0.03, 0.032, 0.029, 0.034, 0.034, 0.029, 0.029, 0.034, 0.03, 0.029, 0.032, 0.034, 0.031, 0.03, 0.031, 0.03, 0.029, 0.033, 0.031, 0.032, 0.03, 0.033, 0.03, 0.033, 0.029, 0.031, 0.029, 0.032, 0.034, 0.031, 0.031, 0.035, 0.039, 0.031, 0.03, 0.028, 0.031, 0.027, 0.029, 0.03, 0.033, 0.035, 0.033, 0.027, 0.03, 0.031, 0.03, 0.032, 0.028, 0.032, 0.028, 0.032, 0.028, 0.029, 0.034, 0.032, 0.032, 0.032, 0.027, 0.034, 0.034, 0.034, 0.027, 0.032, 0.029, 0.03, 0.035, 0.034, 0.028, 0.028, 0.028, 0.032, 0.031, 0.033, 0.031, 0.034, 0.032, 0.033, 0.03, 0.031, 0.033, 0.03, 0.029, 0.032, 0.028, 0.029, 0.031, 0.029, 0.031, 0.034, 0.03, 0.032, 0.038, 0.029, 0.03, 0.033, 0.033]\n",
      "[Apr 11, 12:44:36] #> Got bucket_cutoffs_quantiles = tensor([0.2500, 0.5000, 0.7500], device='cuda:0') and bucket_weights_quantiles = tensor([0.1250, 0.3750, 0.6250, 0.8750], device='cuda:0')\n",
      "[Apr 11, 12:44:36] #> Got bucket_cutoffs = tensor([-0.0208,  0.0001,  0.0211], device='cuda:0') and bucket_weights = tensor([-0.0436, -0.0084,  0.0086,  0.0442], device='cuda:0')\n",
      "[Apr 11, 12:44:36] avg_residual = 0.031280517578125\n",
      "[Apr 11, 12:44:36] [0] \t\t #> Encoding 9494 passages..\n"
     ]
    },
    {
     "name": "stderr",
     "output_type": "stream",
     "text": [
      "0it [00:00, ?it/s]"
     ]
    },
    {
     "name": "stdout",
     "output_type": "stream",
     "text": [
      "[Apr 11, 12:44:39] [0] \t\t #> Saving chunk 0: \t 9,494 passages and 83,087 embeddings. From #0 onward.\n",
      "[Apr 11, 12:44:39] [0] \t\t #> Checking all files were saved...\n",
      "[Apr 11, 12:44:39] [0] \t\t Found all files!\n",
      "[Apr 11, 12:44:39] [0] \t\t #> Building IVF...\n",
      "[Apr 11, 12:44:39] [0] \t\t #> Loading codes...\n",
      "[Apr 11, 12:44:39] [0] \t\t Sorting codes...\n",
      "[Apr 11, 12:44:39] [0] \t\t Getting unique codes...\n",
      "[Apr 11, 12:44:39] #> Optimizing IVF to store map from centroids to list of pids..\n",
      "[Apr 11, 12:44:39] #> Building the emb2pid mapping..\n",
      "[Apr 11, 12:44:39] len(emb2pid) = 83087\n",
      "[Apr 11, 12:44:39] #> Saved optimized IVF to /home/sondors/Documents/price/ColBERT/tutorial/colbert-5387/indexes/models_2801_2bits/ivf.pid.pt\n",
      "[Apr 11, 12:44:39] [0] \t\t #> Saving the indexing metadata to /home/sondors/Documents/price/ColBERT/tutorial/colbert-5387/indexes/models_2801_2bits/metadata.json ..\n"
     ]
    },
    {
     "name": "stderr",
     "output_type": "stream",
     "text": [
      "1it [00:02,  3.00s/it]\n",
      "100%|██████████| 1/1 [00:00<00:00, 3236.35it/s]\n",
      "100%|██████████| 4096/4096 [00:00<00:00, 219998.07it/s]\n"
     ]
    },
    {
     "name": "stdout",
     "output_type": "stream",
     "text": [
      "#> Joined...\n",
      "[Apr 11, 12:44:39] #> Loading collection...\n",
      "0M \n",
      "\n",
      "\n",
      "[Apr 11, 12:44:39] #> Note: Output directory /home/sondors/Documents/price/ColBERT/tutorial/colbert-5387/indexes/models_3908_2bits already exists\n",
      "\n",
      "\n",
      "[Apr 11, 12:44:39] #> Will delete 10 files already at /home/sondors/Documents/price/ColBERT/tutorial/colbert-5387/indexes/models_3908_2bits in 20 seconds...\n",
      "#> Starting...\n",
      "nranks = 1 \t num_gpus = 1 \t device=0\n",
      "{\n",
      "    \"query_token_id\": \"[unused0]\",\n",
      "    \"doc_token_id\": \"[unused1]\",\n",
      "    \"query_token\": \"[Q]\",\n",
      "    \"doc_token\": \"[D]\",\n",
      "    \"ncells\": null,\n",
      "    \"centroid_score_threshold\": null,\n",
      "    \"ndocs\": null,\n",
      "    \"load_index_with_mmap\": false,\n",
      "    \"index_path\": null,\n",
      "    \"nbits\": 2,\n",
      "    \"kmeans_niters\": 4,\n",
      "    \"resume\": false,\n",
      "    \"similarity\": \"cosine\",\n",
      "    \"bsize\": 64,\n",
      "    \"accumsteps\": 1,\n",
      "    \"lr\": 0.0001,\n",
      "    \"maxsteps\": 5387,\n",
      "    \"save_every\": null,\n",
      "    \"warmup\": 0,\n",
      "    \"warmup_bert\": null,\n",
      "    \"relu\": false,\n",
      "    \"nway\": 2,\n",
      "    \"use_ib_negatives\": true,\n",
      "    \"reranker\": false,\n",
      "    \"distillation_alpha\": 1.0,\n",
      "    \"ignore_scores\": false,\n",
      "    \"model_name\": null,\n",
      "    \"query_maxlen\": 32,\n",
      "    \"attend_to_mask_tokens\": false,\n",
      "    \"interaction\": \"colbert\",\n",
      "    \"dim\": 128,\n",
      "    \"doc_maxlen\": 300,\n",
      "    \"mask_punctuation\": true,\n",
      "    \"checkpoint\": \"\\/home\\/sondors\\/Documents\\/ColBERT_weights\\/triples_X1_13_categories_use_ib_negatives\\/none\\/2024-01\\/26\\/10.49.44\\/checkpoints\\/colbert-5387-finish\",\n",
      "    \"triples\": \"\\/mnt\\/vdb1\\/Datasets\\/ColBERT_data\\/13_categories\\/train\\/triples_X1_13_categories_shuffle.json\",\n",
      "    \"collection\": \"\\/home\\/sondors\\/Documents\\/price\\/ColBERT\\/tutorial\\/tsv\\/3908_models.tsv\",\n",
      "    \"queries\": \"\\/mnt\\/vdb1\\/Datasets\\/ColBERT_data\\/13_categories\\/train\\/queries_train_13_categories.tsv\",\n",
      "    \"index_name\": \"models_3908_2bits\",\n",
      "    \"overwrite\": false,\n",
      "    \"root\": \"\\/home\\/sondors\\/Documents\\/price\\/ColBERT\\/tutorial\",\n",
      "    \"experiment\": \"colbert-5387\",\n",
      "    \"index_root\": null,\n",
      "    \"name\": \"2024-04\\/11\\/12.41.36\",\n",
      "    \"rank\": 0,\n",
      "    \"nranks\": 1,\n",
      "    \"amp\": true,\n",
      "    \"gpus\": 1\n",
      "}\n",
      "[Apr 11, 12:45:01] [0] \t\t # of sampled PIDs = 146 \t sampled_pids[:3] = [106, 2, 76]\n",
      "[Apr 11, 12:45:01] [0] \t\t #> Encoding 146 passages..\n",
      "[Apr 11, 12:45:02] [0] \t\t avg_doclen_est = 8.767123222351074 \t len(local_sample) = 146\n",
      "[Apr 11, 12:45:02] [0] \t\t Creaing 512 partitions.\n",
      "[Apr 11, 12:45:02] [0] \t\t *Estimated* 1,279 embeddings.\n",
      "[Apr 11, 12:45:02] [0] \t\t #> Saving the indexing plan to /home/sondors/Documents/price/ColBERT/tutorial/colbert-5387/indexes/models_3908_2bits/plan.json ..\n",
      "Clustering 1216 points in 128D to 512 clusters, redo 1 times, 4 iterations\n",
      "  Preprocessing in 0.00 s\n",
      "  Iteration 3 (0.00 s, search 0.00 s): objective=85.2028 imbalance=1.402 nsplit=0       \n",
      "[Apr 11, 12:45:02] Loading decompress_residuals_cpp extension (set COLBERT_LOAD_TORCH_EXTENSION_VERBOSE=True for more info)...\n"
     ]
    },
    {
     "name": "stderr",
     "output_type": "stream",
     "text": [
      "WARNING clustering 1216 points to 512 centroids: please provide at least 19968 training points\n"
     ]
    },
    {
     "name": "stdout",
     "output_type": "stream",
     "text": [
      "[Apr 11, 12:45:02] Loading packbits_cpp extension (set COLBERT_LOAD_TORCH_EXTENSION_VERBOSE=True for more info)...\n",
      "[0.025, 0.024, 0.03, 0.028, 0.029, 0.026, 0.026, 0.024, 0.025, 0.029, 0.029, 0.026, 0.029, 0.033, 0.028, 0.032, 0.027, 0.026, 0.031, 0.019, 0.026, 0.025, 0.028, 0.025, 0.027, 0.027, 0.032, 0.034, 0.03, 0.027, 0.022, 0.027, 0.027, 0.021, 0.032, 0.031, 0.027, 0.025, 0.034, 0.023, 0.022, 0.027, 0.034, 0.025, 0.026, 0.029, 0.025, 0.023, 0.032, 0.025, 0.027, 0.023, 0.03, 0.026, 0.024, 0.025, 0.026, 0.024, 0.025, 0.034, 0.025, 0.029, 0.029, 0.026, 0.029, 0.024, 0.023, 0.022, 0.023, 0.023, 0.027, 0.03, 0.027, 0.028, 0.022, 0.024, 0.021, 0.023, 0.03, 0.023, 0.026, 0.028, 0.027, 0.023, 0.029, 0.022, 0.027, 0.026, 0.034, 0.019, 0.028, 0.022, 0.03, 0.024, 0.022, 0.025, 0.025, 0.029, 0.029, 0.025, 0.024, 0.022, 0.024, 0.028, 0.028, 0.029, 0.029, 0.023, 0.022, 0.024, 0.033, 0.027, 0.023, 0.025, 0.026, 0.025, 0.025, 0.029, 0.028, 0.023, 0.033, 0.022, 0.028, 0.029, 0.024, 0.026, 0.023, 0.023]\n",
      "[Apr 11, 12:45:03] #> Got bucket_cutoffs_quantiles = tensor([0.2500, 0.5000, 0.7500], device='cuda:0') and bucket_weights_quantiles = tensor([0.1250, 0.3750, 0.6250, 0.8750], device='cuda:0')\n",
      "[Apr 11, 12:45:03] #> Got bucket_cutoffs = tensor([-0.0138, -0.0002,  0.0142], device='cuda:0') and bucket_weights = tensor([-0.0355, -0.0051,  0.0051,  0.0366], device='cuda:0')\n",
      "[Apr 11, 12:45:03] avg_residual = 0.0264129638671875\n",
      "[Apr 11, 12:45:03] [0] \t\t #> Encoding 146 passages..\n"
     ]
    },
    {
     "name": "stderr",
     "output_type": "stream",
     "text": [
      "1it [00:00, 18.51it/s]\n",
      "100%|██████████| 1/1 [00:00<00:00, 3887.21it/s]\n",
      "100%|██████████| 512/512 [00:00<00:00, 194871.47it/s]\n"
     ]
    },
    {
     "name": "stdout",
     "output_type": "stream",
     "text": [
      "[Apr 11, 12:45:03] [0] \t\t #> Saving chunk 0: \t 146 passages and 1,280 embeddings. From #0 onward.\n",
      "[Apr 11, 12:45:03] [0] \t\t #> Checking all files were saved...\n",
      "[Apr 11, 12:45:03] [0] \t\t Found all files!\n",
      "[Apr 11, 12:45:03] [0] \t\t #> Building IVF...\n",
      "[Apr 11, 12:45:03] [0] \t\t #> Loading codes...\n",
      "[Apr 11, 12:45:03] [0] \t\t Sorting codes...\n",
      "[Apr 11, 12:45:03] [0] \t\t Getting unique codes...\n",
      "[Apr 11, 12:45:03] #> Optimizing IVF to store map from centroids to list of pids..\n",
      "[Apr 11, 12:45:03] #> Building the emb2pid mapping..\n",
      "[Apr 11, 12:45:03] len(emb2pid) = 1280\n",
      "[Apr 11, 12:45:03] #> Saved optimized IVF to /home/sondors/Documents/price/ColBERT/tutorial/colbert-5387/indexes/models_3908_2bits/ivf.pid.pt\n",
      "[Apr 11, 12:45:03] [0] \t\t #> Saving the indexing metadata to /home/sondors/Documents/price/ColBERT/tutorial/colbert-5387/indexes/models_3908_2bits/metadata.json ..\n",
      "#> Joined...\n",
      "[Apr 11, 12:45:03] #> Loading collection...\n",
      "0M \n",
      "\n",
      "\n",
      "[Apr 11, 12:45:03] #> Note: Output directory /home/sondors/Documents/price/ColBERT/tutorial/colbert-5387/indexes/models_510401_2bits already exists\n",
      "\n",
      "\n",
      "[Apr 11, 12:45:03] #> Will delete 10 files already at /home/sondors/Documents/price/ColBERT/tutorial/colbert-5387/indexes/models_510401_2bits in 20 seconds...\n",
      "#> Starting...\n",
      "nranks = 1 \t num_gpus = 1 \t device=0\n",
      "{\n",
      "    \"query_token_id\": \"[unused0]\",\n",
      "    \"doc_token_id\": \"[unused1]\",\n",
      "    \"query_token\": \"[Q]\",\n",
      "    \"doc_token\": \"[D]\",\n",
      "    \"ncells\": null,\n",
      "    \"centroid_score_threshold\": null,\n",
      "    \"ndocs\": null,\n",
      "    \"load_index_with_mmap\": false,\n",
      "    \"index_path\": null,\n",
      "    \"nbits\": 2,\n",
      "    \"kmeans_niters\": 4,\n",
      "    \"resume\": false,\n",
      "    \"similarity\": \"cosine\",\n",
      "    \"bsize\": 64,\n",
      "    \"accumsteps\": 1,\n",
      "    \"lr\": 0.0001,\n",
      "    \"maxsteps\": 5387,\n",
      "    \"save_every\": null,\n",
      "    \"warmup\": 0,\n",
      "    \"warmup_bert\": null,\n",
      "    \"relu\": false,\n",
      "    \"nway\": 2,\n",
      "    \"use_ib_negatives\": true,\n",
      "    \"reranker\": false,\n",
      "    \"distillation_alpha\": 1.0,\n",
      "    \"ignore_scores\": false,\n",
      "    \"model_name\": null,\n",
      "    \"query_maxlen\": 32,\n",
      "    \"attend_to_mask_tokens\": false,\n",
      "    \"interaction\": \"colbert\",\n",
      "    \"dim\": 128,\n",
      "    \"doc_maxlen\": 300,\n",
      "    \"mask_punctuation\": true,\n",
      "    \"checkpoint\": \"\\/home\\/sondors\\/Documents\\/ColBERT_weights\\/triples_X1_13_categories_use_ib_negatives\\/none\\/2024-01\\/26\\/10.49.44\\/checkpoints\\/colbert-5387-finish\",\n",
      "    \"triples\": \"\\/mnt\\/vdb1\\/Datasets\\/ColBERT_data\\/13_categories\\/train\\/triples_X1_13_categories_shuffle.json\",\n",
      "    \"collection\": \"\\/home\\/sondors\\/Documents\\/price\\/ColBERT\\/tutorial\\/tsv\\/510401_models.tsv\",\n",
      "    \"queries\": \"\\/mnt\\/vdb1\\/Datasets\\/ColBERT_data\\/13_categories\\/train\\/queries_train_13_categories.tsv\",\n",
      "    \"index_name\": \"models_510401_2bits\",\n",
      "    \"overwrite\": false,\n",
      "    \"root\": \"\\/home\\/sondors\\/Documents\\/price\\/ColBERT\\/tutorial\",\n",
      "    \"experiment\": \"colbert-5387\",\n",
      "    \"index_root\": null,\n",
      "    \"name\": \"2024-04\\/11\\/12.41.36\",\n",
      "    \"rank\": 0,\n",
      "    \"nranks\": 1,\n",
      "    \"amp\": true,\n",
      "    \"gpus\": 1\n",
      "}\n",
      "[Apr 11, 12:45:25] [0] \t\t # of sampled PIDs = 3839 \t sampled_pids[:3] = [1706, 3001, 41]\n",
      "[Apr 11, 12:45:25] [0] \t\t #> Encoding 3839 passages..\n",
      "[Apr 11, 12:45:27] [0] \t\t avg_doclen_est = 10.191455841064453 \t len(local_sample) = 3,839\n",
      "[Apr 11, 12:45:27] [0] \t\t Creaing 2,048 partitions.\n",
      "[Apr 11, 12:45:27] [0] \t\t *Estimated* 39,124 embeddings.\n",
      "[Apr 11, 12:45:27] [0] \t\t #> Saving the indexing plan to /home/sondors/Documents/price/ColBERT/tutorial/colbert-5387/indexes/models_510401_2bits/plan.json ..\n",
      "Clustering 37169 points in 128D to 2048 clusters, redo 1 times, 4 iterations\n",
      "  Preprocessing in 0.00 s\n",
      "  Iteration 3 (0.03 s, search 0.03 s): objective=6983.39 imbalance=1.517 nsplit=0       \n",
      "[Apr 11, 12:45:27] Loading decompress_residuals_cpp extension (set COLBERT_LOAD_TORCH_EXTENSION_VERBOSE=True for more info)...\n"
     ]
    },
    {
     "name": "stderr",
     "output_type": "stream",
     "text": [
      "WARNING clustering 37169 points to 2048 centroids: please provide at least 79872 training points\n"
     ]
    },
    {
     "name": "stdout",
     "output_type": "stream",
     "text": [
      "[Apr 11, 12:45:28] Loading packbits_cpp extension (set COLBERT_LOAD_TORCH_EXTENSION_VERBOSE=True for more info)...\n",
      "[0.03, 0.032, 0.03, 0.031, 0.03, 0.031, 0.03, 0.03, 0.026, 0.031, 0.03, 0.034, 0.029, 0.035, 0.029, 0.033, 0.029, 0.029, 0.029, 0.028, 0.03, 0.031, 0.029, 0.029, 0.029, 0.029, 0.031, 0.034, 0.033, 0.031, 0.029, 0.028, 0.03, 0.028, 0.032, 0.032, 0.028, 0.029, 0.035, 0.031, 0.029, 0.031, 0.033, 0.03, 0.029, 0.03, 0.03, 0.028, 0.031, 0.031, 0.029, 0.03, 0.033, 0.027, 0.03, 0.029, 0.031, 0.028, 0.032, 0.031, 0.028, 0.029, 0.035, 0.037, 0.03, 0.029, 0.028, 0.031, 0.028, 0.03, 0.028, 0.031, 0.03, 0.029, 0.027, 0.03, 0.029, 0.029, 0.03, 0.028, 0.031, 0.026, 0.03, 0.028, 0.028, 0.032, 0.028, 0.032, 0.033, 0.028, 0.033, 0.033, 0.033, 0.026, 0.032, 0.03, 0.029, 0.033, 0.033, 0.028, 0.028, 0.026, 0.029, 0.029, 0.03, 0.029, 0.031, 0.033, 0.032, 0.029, 0.027, 0.03, 0.028, 0.026, 0.028, 0.026, 0.028, 0.03, 0.03, 0.032, 0.032, 0.028, 0.028, 0.037, 0.027, 0.028, 0.03, 0.031]\n",
      "[Apr 11, 12:45:28] #> Got bucket_cutoffs_quantiles = tensor([0.2500, 0.5000, 0.7500], device='cuda:0') and bucket_weights_quantiles = tensor([0.1250, 0.3750, 0.6250, 0.8750], device='cuda:0')\n",
      "[Apr 11, 12:45:28] #> Got bucket_cutoffs = tensor([-0.0198,  0.0000,  0.0200], device='cuda:0') and bucket_weights = tensor([-0.0417, -0.0080,  0.0081,  0.0419], device='cuda:0')\n",
      "[Apr 11, 12:45:28] avg_residual = 0.029998779296875\n",
      "[Apr 11, 12:45:28] [0] \t\t #> Encoding 3839 passages..\n"
     ]
    },
    {
     "name": "stderr",
     "output_type": "stream",
     "text": [
      "0it [00:00, ?it/s]"
     ]
    },
    {
     "name": "stdout",
     "output_type": "stream",
     "text": [
      "[Apr 11, 12:45:29] [0] \t\t #> Saving chunk 0: \t 3,839 passages and 39,125 embeddings. From #0 onward.\n",
      "[Apr 11, 12:45:29] [0] \t\t #> Checking all files were saved...\n",
      "[Apr 11, 12:45:29] [0] \t\t Found all files!\n",
      "[Apr 11, 12:45:29] [0] \t\t #> Building IVF...\n",
      "[Apr 11, 12:45:29] [0] \t\t #> Loading codes...\n",
      "[Apr 11, 12:45:29] [0] \t\t Sorting codes...\n",
      "[Apr 11, 12:45:29] [0] \t\t Getting unique codes...\n",
      "[Apr 11, 12:45:29] #> Optimizing IVF to store map from centroids to list of pids..\n",
      "[Apr 11, 12:45:29] #> Building the emb2pid mapping..\n",
      "[Apr 11, 12:45:29] len(emb2pid) = 39125\n",
      "[Apr 11, 12:45:29] #> Saved optimized IVF to /home/sondors/Documents/price/ColBERT/tutorial/colbert-5387/indexes/models_510401_2bits/ivf.pid.pt\n",
      "[Apr 11, 12:45:29] [0] \t\t #> Saving the indexing metadata to /home/sondors/Documents/price/ColBERT/tutorial/colbert-5387/indexes/models_510401_2bits/metadata.json ..\n"
     ]
    },
    {
     "name": "stderr",
     "output_type": "stream",
     "text": [
      "1it [00:01,  1.25s/it]\n",
      "100%|██████████| 1/1 [00:00<00:00, 3390.71it/s]\n",
      "100%|██████████| 2048/2048 [00:00<00:00, 224063.82it/s]\n"
     ]
    },
    {
     "name": "stdout",
     "output_type": "stream",
     "text": [
      "#> Joined...\n",
      "[Apr 11, 12:45:30] #> Loading collection...\n",
      "0M \n",
      "\n",
      "\n",
      "[Apr 11, 12:45:30] #> Note: Output directory /home/sondors/Documents/price/ColBERT/tutorial/colbert-5387/indexes/models_2102_2bits already exists\n",
      "\n",
      "\n",
      "[Apr 11, 12:45:30] #> Will delete 10 files already at /home/sondors/Documents/price/ColBERT/tutorial/colbert-5387/indexes/models_2102_2bits in 20 seconds...\n",
      "#> Starting...\n",
      "nranks = 1 \t num_gpus = 1 \t device=0\n",
      "{\n",
      "    \"query_token_id\": \"[unused0]\",\n",
      "    \"doc_token_id\": \"[unused1]\",\n",
      "    \"query_token\": \"[Q]\",\n",
      "    \"doc_token\": \"[D]\",\n",
      "    \"ncells\": null,\n",
      "    \"centroid_score_threshold\": null,\n",
      "    \"ndocs\": null,\n",
      "    \"load_index_with_mmap\": false,\n",
      "    \"index_path\": null,\n",
      "    \"nbits\": 2,\n",
      "    \"kmeans_niters\": 4,\n",
      "    \"resume\": false,\n",
      "    \"similarity\": \"cosine\",\n",
      "    \"bsize\": 64,\n",
      "    \"accumsteps\": 1,\n",
      "    \"lr\": 0.0001,\n",
      "    \"maxsteps\": 5387,\n",
      "    \"save_every\": null,\n",
      "    \"warmup\": 0,\n",
      "    \"warmup_bert\": null,\n",
      "    \"relu\": false,\n",
      "    \"nway\": 2,\n",
      "    \"use_ib_negatives\": true,\n",
      "    \"reranker\": false,\n",
      "    \"distillation_alpha\": 1.0,\n",
      "    \"ignore_scores\": false,\n",
      "    \"model_name\": null,\n",
      "    \"query_maxlen\": 32,\n",
      "    \"attend_to_mask_tokens\": false,\n",
      "    \"interaction\": \"colbert\",\n",
      "    \"dim\": 128,\n",
      "    \"doc_maxlen\": 300,\n",
      "    \"mask_punctuation\": true,\n",
      "    \"checkpoint\": \"\\/home\\/sondors\\/Documents\\/ColBERT_weights\\/triples_X1_13_categories_use_ib_negatives\\/none\\/2024-01\\/26\\/10.49.44\\/checkpoints\\/colbert-5387-finish\",\n",
      "    \"triples\": \"\\/mnt\\/vdb1\\/Datasets\\/ColBERT_data\\/13_categories\\/train\\/triples_X1_13_categories_shuffle.json\",\n",
      "    \"collection\": \"\\/home\\/sondors\\/Documents\\/price\\/ColBERT\\/tutorial\\/tsv\\/2102_models.tsv\",\n",
      "    \"queries\": \"\\/mnt\\/vdb1\\/Datasets\\/ColBERT_data\\/13_categories\\/train\\/queries_train_13_categories.tsv\",\n",
      "    \"index_name\": \"models_2102_2bits\",\n",
      "    \"overwrite\": false,\n",
      "    \"root\": \"\\/home\\/sondors\\/Documents\\/price\\/ColBERT\\/tutorial\",\n",
      "    \"experiment\": \"colbert-5387\",\n",
      "    \"index_root\": null,\n",
      "    \"name\": \"2024-04\\/11\\/12.41.36\",\n",
      "    \"rank\": 0,\n",
      "    \"nranks\": 1,\n",
      "    \"amp\": true,\n",
      "    \"gpus\": 1\n",
      "}\n",
      "[Apr 11, 12:45:52] [0] \t\t # of sampled PIDs = 11118 \t sampled_pids[:3] = [6825, 166, 4892]\n",
      "[Apr 11, 12:45:52] [0] \t\t #> Encoding 11118 passages..\n",
      "[Apr 11, 12:45:57] [0] \t\t avg_doclen_est = 8.841338157653809 \t len(local_sample) = 11,118\n",
      "[Apr 11, 12:45:57] [0] \t\t Creaing 4,096 partitions.\n",
      "[Apr 11, 12:45:57] [0] \t\t *Estimated* 98,297 embeddings.\n",
      "[Apr 11, 12:45:57] [0] \t\t #> Saving the indexing plan to /home/sondors/Documents/price/ColBERT/tutorial/colbert-5387/indexes/models_2102_2bits/plan.json ..\n",
      "Clustering 93384 points in 128D to 4096 clusters, redo 1 times, 4 iterations\n",
      "  Preprocessing in 0.01 s\n",
      "  Iteration 1 (0.06 s, search 0.05 s): objective=23296.8 imbalance=1.592 nsplit=22       \r"
     ]
    },
    {
     "name": "stderr",
     "output_type": "stream",
     "text": [
      "WARNING clustering 93384 points to 4096 centroids: please provide at least 159744 training points\n"
     ]
    },
    {
     "name": "stdout",
     "output_type": "stream",
     "text": [
      "  Iteration 3 (0.12 s, search 0.11 s): objective=20485.7 imbalance=1.561 nsplit=0       \n",
      "[Apr 11, 12:45:57] Loading decompress_residuals_cpp extension (set COLBERT_LOAD_TORCH_EXTENSION_VERBOSE=True for more info)...\n",
      "[Apr 11, 12:45:57] Loading packbits_cpp extension (set COLBERT_LOAD_TORCH_EXTENSION_VERBOSE=True for more info)...\n",
      "[0.033, 0.033, 0.031, 0.033, 0.037, 0.035, 0.034, 0.032, 0.027, 0.033, 0.033, 0.036, 0.032, 0.034, 0.032, 0.034, 0.03, 0.031, 0.032, 0.031, 0.031, 0.035, 0.034, 0.032, 0.032, 0.034, 0.035, 0.038, 0.035, 0.034, 0.03, 0.031, 0.035, 0.031, 0.034, 0.034, 0.031, 0.033, 0.037, 0.031, 0.03, 0.033, 0.036, 0.031, 0.032, 0.033, 0.032, 0.031, 0.034, 0.033, 0.032, 0.031, 0.034, 0.032, 0.034, 0.031, 0.033, 0.031, 0.034, 0.035, 0.032, 0.032, 0.037, 0.037, 0.032, 0.031, 0.029, 0.033, 0.03, 0.031, 0.031, 0.034, 0.033, 0.032, 0.028, 0.032, 0.033, 0.033, 0.034, 0.031, 0.034, 0.031, 0.032, 0.03, 0.032, 0.034, 0.033, 0.036, 0.034, 0.028, 0.037, 0.033, 0.034, 0.028, 0.034, 0.032, 0.031, 0.034, 0.036, 0.029, 0.03, 0.029, 0.031, 0.032, 0.034, 0.033, 0.036, 0.033, 0.033, 0.032, 0.03, 0.032, 0.031, 0.028, 0.031, 0.029, 0.03, 0.033, 0.032, 0.033, 0.036, 0.029, 0.033, 0.036, 0.03, 0.031, 0.036, 0.035]\n",
      "[Apr 11, 12:45:57] #> Got bucket_cutoffs_quantiles = tensor([0.2500, 0.5000, 0.7500], device='cuda:0') and bucket_weights_quantiles = tensor([0.1250, 0.3750, 0.6250, 0.8750], device='cuda:0')\n",
      "[Apr 11, 12:45:57] #> Got bucket_cutoffs = tensor([-0.0215,  0.0000,  0.0217], device='cuda:0') and bucket_weights = tensor([-0.0458, -0.0085,  0.0085,  0.0460], device='cuda:0')\n",
      "[Apr 11, 12:45:57] avg_residual = 0.03253173828125\n",
      "[Apr 11, 12:45:57] [0] \t\t #> Encoding 11118 passages..\n"
     ]
    },
    {
     "name": "stderr",
     "output_type": "stream",
     "text": [
      "0it [00:00, ?it/s]"
     ]
    },
    {
     "name": "stdout",
     "output_type": "stream",
     "text": [
      "[Apr 11, 12:46:01] [0] \t\t #> Saving chunk 0: \t 11,118 passages and 98,298 embeddings. From #0 onward.\n",
      "[Apr 11, 12:46:01] [0] \t\t #> Checking all files were saved...\n",
      "[Apr 11, 12:46:01] [0] \t\t Found all files!\n",
      "[Apr 11, 12:46:01] [0] \t\t #> Building IVF...\n",
      "[Apr 11, 12:46:01] [0] \t\t #> Loading codes...\n",
      "[Apr 11, 12:46:01] [0] \t\t Sorting codes...\n",
      "[Apr 11, 12:46:01] [0] \t\t Getting unique codes...\n",
      "[Apr 11, 12:46:01] #> Optimizing IVF to store map from centroids to list of pids..\n",
      "[Apr 11, 12:46:01] #> Building the emb2pid mapping..\n",
      "[Apr 11, 12:46:01] len(emb2pid) = 98298\n",
      "[Apr 11, 12:46:01] #> Saved optimized IVF to /home/sondors/Documents/price/ColBERT/tutorial/colbert-5387/indexes/models_2102_2bits/ivf.pid.pt\n",
      "[Apr 11, 12:46:01] [0] \t\t #> Saving the indexing metadata to /home/sondors/Documents/price/ColBERT/tutorial/colbert-5387/indexes/models_2102_2bits/metadata.json ..\n"
     ]
    },
    {
     "name": "stderr",
     "output_type": "stream",
     "text": [
      "1it [00:03,  3.66s/it]\n",
      "100%|██████████| 1/1 [00:00<00:00, 3024.01it/s]\n",
      "100%|██████████| 4096/4096 [00:00<00:00, 213237.05it/s]\n"
     ]
    },
    {
     "name": "stdout",
     "output_type": "stream",
     "text": [
      "#> Joined...\n",
      "[Apr 11, 12:46:01] #> Loading collection...\n",
      "0M \n",
      "\n",
      "\n",
      "[Apr 11, 12:46:01] #> Note: Output directory /home/sondors/Documents/price/ColBERT/tutorial/colbert-5387/indexes/models_3903_2bits already exists\n",
      "\n",
      "\n",
      "[Apr 11, 12:46:01] #> Will delete 10 files already at /home/sondors/Documents/price/ColBERT/tutorial/colbert-5387/indexes/models_3903_2bits in 20 seconds...\n",
      "#> Starting...\n",
      "nranks = 1 \t num_gpus = 1 \t device=0\n",
      "{\n",
      "    \"query_token_id\": \"[unused0]\",\n",
      "    \"doc_token_id\": \"[unused1]\",\n",
      "    \"query_token\": \"[Q]\",\n",
      "    \"doc_token\": \"[D]\",\n",
      "    \"ncells\": null,\n",
      "    \"centroid_score_threshold\": null,\n",
      "    \"ndocs\": null,\n",
      "    \"load_index_with_mmap\": false,\n",
      "    \"index_path\": null,\n",
      "    \"nbits\": 2,\n",
      "    \"kmeans_niters\": 4,\n",
      "    \"resume\": false,\n",
      "    \"similarity\": \"cosine\",\n",
      "    \"bsize\": 64,\n",
      "    \"accumsteps\": 1,\n",
      "    \"lr\": 0.0001,\n",
      "    \"maxsteps\": 5387,\n",
      "    \"save_every\": null,\n",
      "    \"warmup\": 0,\n",
      "    \"warmup_bert\": null,\n",
      "    \"relu\": false,\n",
      "    \"nway\": 2,\n",
      "    \"use_ib_negatives\": true,\n",
      "    \"reranker\": false,\n",
      "    \"distillation_alpha\": 1.0,\n",
      "    \"ignore_scores\": false,\n",
      "    \"model_name\": null,\n",
      "    \"query_maxlen\": 32,\n",
      "    \"attend_to_mask_tokens\": false,\n",
      "    \"interaction\": \"colbert\",\n",
      "    \"dim\": 128,\n",
      "    \"doc_maxlen\": 300,\n",
      "    \"mask_punctuation\": true,\n",
      "    \"checkpoint\": \"\\/home\\/sondors\\/Documents\\/ColBERT_weights\\/triples_X1_13_categories_use_ib_negatives\\/none\\/2024-01\\/26\\/10.49.44\\/checkpoints\\/colbert-5387-finish\",\n",
      "    \"triples\": \"\\/mnt\\/vdb1\\/Datasets\\/ColBERT_data\\/13_categories\\/train\\/triples_X1_13_categories_shuffle.json\",\n",
      "    \"collection\": \"\\/home\\/sondors\\/Documents\\/price\\/ColBERT\\/tutorial\\/tsv\\/3903_models.tsv\",\n",
      "    \"queries\": \"\\/mnt\\/vdb1\\/Datasets\\/ColBERT_data\\/13_categories\\/train\\/queries_train_13_categories.tsv\",\n",
      "    \"index_name\": \"models_3903_2bits\",\n",
      "    \"overwrite\": false,\n",
      "    \"root\": \"\\/home\\/sondors\\/Documents\\/price\\/ColBERT\\/tutorial\",\n",
      "    \"experiment\": \"colbert-5387\",\n",
      "    \"index_root\": null,\n",
      "    \"name\": \"2024-04\\/11\\/12.41.36\",\n",
      "    \"rank\": 0,\n",
      "    \"nranks\": 1,\n",
      "    \"amp\": true,\n",
      "    \"gpus\": 1\n",
      "}\n",
      "[Apr 11, 12:46:24] [0] \t\t # of sampled PIDs = 1452 \t sampled_pids[:3] = [853, 20, 611]\n",
      "[Apr 11, 12:46:24] [0] \t\t #> Encoding 1452 passages..\n",
      "[Apr 11, 12:46:25] [0] \t\t avg_doclen_est = 8.69214916229248 \t len(local_sample) = 1,452\n",
      "[Apr 11, 12:46:25] [0] \t\t Creaing 1,024 partitions.\n",
      "[Apr 11, 12:46:25] [0] \t\t *Estimated* 12,621 embeddings.\n",
      "[Apr 11, 12:46:25] [0] \t\t #> Saving the indexing plan to /home/sondors/Documents/price/ColBERT/tutorial/colbert-5387/indexes/models_3903_2bits/plan.json ..\n",
      "Clustering 11990 points in 128D to 1024 clusters, redo 1 times, 4 iterations\n",
      "  Preprocessing in 0.00 s\n",
      "  Iteration 3 (0.01 s, search 0.01 s): objective=2510.71 imbalance=1.588 nsplit=0       \n",
      "[Apr 11, 12:46:25] Loading decompress_residuals_cpp extension (set COLBERT_LOAD_TORCH_EXTENSION_VERBOSE=True for more info)...\n"
     ]
    },
    {
     "name": "stderr",
     "output_type": "stream",
     "text": [
      "WARNING clustering 11990 points to 1024 centroids: please provide at least 39936 training points\n"
     ]
    },
    {
     "name": "stdout",
     "output_type": "stream",
     "text": [
      "[Apr 11, 12:46:25] Loading packbits_cpp extension (set COLBERT_LOAD_TORCH_EXTENSION_VERBOSE=True for more info)...\n",
      "[0.03, 0.032, 0.031, 0.033, 0.031, 0.03, 0.03, 0.032, 0.026, 0.032, 0.03, 0.034, 0.029, 0.035, 0.029, 0.035, 0.03, 0.028, 0.028, 0.029, 0.032, 0.033, 0.033, 0.03, 0.03, 0.033, 0.032, 0.034, 0.034, 0.03, 0.03, 0.031, 0.032, 0.028, 0.035, 0.034, 0.03, 0.031, 0.035, 0.03, 0.027, 0.031, 0.033, 0.029, 0.029, 0.032, 0.03, 0.03, 0.033, 0.032, 0.03, 0.031, 0.034, 0.03, 0.03, 0.029, 0.03, 0.028, 0.033, 0.029, 0.031, 0.031, 0.035, 0.037, 0.03, 0.029, 0.027, 0.032, 0.027, 0.028, 0.029, 0.03, 0.032, 0.028, 0.028, 0.032, 0.032, 0.032, 0.031, 0.029, 0.032, 0.028, 0.031, 0.03, 0.031, 0.035, 0.029, 0.034, 0.031, 0.028, 0.032, 0.031, 0.032, 0.026, 0.035, 0.031, 0.028, 0.033, 0.036, 0.029, 0.028, 0.025, 0.027, 0.028, 0.032, 0.03, 0.033, 0.031, 0.033, 0.029, 0.03, 0.032, 0.028, 0.027, 0.03, 0.026, 0.028, 0.033, 0.029, 0.03, 0.035, 0.032, 0.034, 0.034, 0.03, 0.029, 0.033, 0.029]\n",
      "[Apr 11, 12:46:25] #> Got bucket_cutoffs_quantiles = tensor([0.2500, 0.5000, 0.7500], device='cuda:0') and bucket_weights_quantiles = tensor([0.1250, 0.3750, 0.6250, 0.8750], device='cuda:0')\n",
      "[Apr 11, 12:46:25] #> Got bucket_cutoffs = tensor([-0.0181,  0.0001,  0.0190], device='cuda:0') and bucket_weights = tensor([-0.0434, -0.0064,  0.0069,  0.0445], device='cuda:0')\n",
      "[Apr 11, 12:46:25] avg_residual = 0.03076171875\n",
      "[Apr 11, 12:46:25] [0] \t\t #> Encoding 1452 passages..\n"
     ]
    },
    {
     "name": "stderr",
     "output_type": "stream",
     "text": [
      "0it [00:00, ?it/s]"
     ]
    },
    {
     "name": "stdout",
     "output_type": "stream",
     "text": [
      "[Apr 11, 12:46:26] [0] \t\t #> Saving chunk 0: \t 1,452 passages and 12,621 embeddings. From #0 onward.\n",
      "[Apr 11, 12:46:26] [0] \t\t #> Checking all files were saved...\n",
      "[Apr 11, 12:46:26] [0] \t\t Found all files!\n",
      "[Apr 11, 12:46:26] [0] \t\t #> Building IVF...\n",
      "[Apr 11, 12:46:26] [0] \t\t #> Loading codes...\n",
      "[Apr 11, 12:46:26] [0] \t\t Sorting codes...\n",
      "[Apr 11, 12:46:26] [0] \t\t Getting unique codes...\n",
      "[Apr 11, 12:46:26] #> Optimizing IVF to store map from centroids to list of pids..\n",
      "[Apr 11, 12:46:26] #> Building the emb2pid mapping..\n",
      "[Apr 11, 12:46:26] len(emb2pid) = 12621\n",
      "[Apr 11, 12:46:26] #> Saved optimized IVF to /home/sondors/Documents/price/ColBERT/tutorial/colbert-5387/indexes/models_3903_2bits/ivf.pid.pt\n",
      "[Apr 11, 12:46:26] [0] \t\t #> Saving the indexing metadata to /home/sondors/Documents/price/ColBERT/tutorial/colbert-5387/indexes/models_3903_2bits/metadata.json ..\n"
     ]
    },
    {
     "name": "stderr",
     "output_type": "stream",
     "text": [
      "1it [00:00,  2.39it/s]\n",
      "100%|██████████| 1/1 [00:00<00:00, 4021.38it/s]\n",
      "100%|██████████| 1024/1024 [00:00<00:00, 185391.60it/s]\n"
     ]
    },
    {
     "name": "stdout",
     "output_type": "stream",
     "text": [
      "#> Joined...\n",
      "[Apr 11, 12:46:26] #> Loading collection...\n",
      "0M \n",
      "\n",
      "\n",
      "[Apr 11, 12:46:26] #> Note: Output directory /home/sondors/Documents/price/ColBERT/tutorial/colbert-5387/indexes/models_3907_2bits already exists\n",
      "\n",
      "\n",
      "[Apr 11, 12:46:26] #> Will delete 10 files already at /home/sondors/Documents/price/ColBERT/tutorial/colbert-5387/indexes/models_3907_2bits in 20 seconds...\n",
      "#> Starting...\n",
      "nranks = 1 \t num_gpus = 1 \t device=0\n",
      "{\n",
      "    \"query_token_id\": \"[unused0]\",\n",
      "    \"doc_token_id\": \"[unused1]\",\n",
      "    \"query_token\": \"[Q]\",\n",
      "    \"doc_token\": \"[D]\",\n",
      "    \"ncells\": null,\n",
      "    \"centroid_score_threshold\": null,\n",
      "    \"ndocs\": null,\n",
      "    \"load_index_with_mmap\": false,\n",
      "    \"index_path\": null,\n",
      "    \"nbits\": 2,\n",
      "    \"kmeans_niters\": 4,\n",
      "    \"resume\": false,\n",
      "    \"similarity\": \"cosine\",\n",
      "    \"bsize\": 64,\n",
      "    \"accumsteps\": 1,\n",
      "    \"lr\": 0.0001,\n",
      "    \"maxsteps\": 5387,\n",
      "    \"save_every\": null,\n",
      "    \"warmup\": 0,\n",
      "    \"warmup_bert\": null,\n",
      "    \"relu\": false,\n",
      "    \"nway\": 2,\n",
      "    \"use_ib_negatives\": true,\n",
      "    \"reranker\": false,\n",
      "    \"distillation_alpha\": 1.0,\n",
      "    \"ignore_scores\": false,\n",
      "    \"model_name\": null,\n",
      "    \"query_maxlen\": 32,\n",
      "    \"attend_to_mask_tokens\": false,\n",
      "    \"interaction\": \"colbert\",\n",
      "    \"dim\": 128,\n",
      "    \"doc_maxlen\": 300,\n",
      "    \"mask_punctuation\": true,\n",
      "    \"checkpoint\": \"\\/home\\/sondors\\/Documents\\/ColBERT_weights\\/triples_X1_13_categories_use_ib_negatives\\/none\\/2024-01\\/26\\/10.49.44\\/checkpoints\\/colbert-5387-finish\",\n",
      "    \"triples\": \"\\/mnt\\/vdb1\\/Datasets\\/ColBERT_data\\/13_categories\\/train\\/triples_X1_13_categories_shuffle.json\",\n",
      "    \"collection\": \"\\/home\\/sondors\\/Documents\\/price\\/ColBERT\\/tutorial\\/tsv\\/3907_models.tsv\",\n",
      "    \"queries\": \"\\/mnt\\/vdb1\\/Datasets\\/ColBERT_data\\/13_categories\\/train\\/queries_train_13_categories.tsv\",\n",
      "    \"index_name\": \"models_3907_2bits\",\n",
      "    \"overwrite\": false,\n",
      "    \"root\": \"\\/home\\/sondors\\/Documents\\/price\\/ColBERT\\/tutorial\",\n",
      "    \"experiment\": \"colbert-5387\",\n",
      "    \"index_root\": null,\n",
      "    \"name\": \"2024-04\\/11\\/12.41.36\",\n",
      "    \"rank\": 0,\n",
      "    \"nranks\": 1,\n",
      "    \"amp\": true,\n",
      "    \"gpus\": 1\n",
      "}\n",
      "[Apr 11, 12:46:48] [0] \t\t # of sampled PIDs = 498 \t sampled_pids[:3] = [213, 375, 5]\n",
      "[Apr 11, 12:46:48] [0] \t\t #> Encoding 498 passages..\n",
      "[Apr 11, 12:46:49] [0] \t\t avg_doclen_est = 9.076305389404297 \t len(local_sample) = 498\n",
      "[Apr 11, 12:46:49] [0] \t\t Creaing 1,024 partitions.\n",
      "[Apr 11, 12:46:49] [0] \t\t *Estimated* 4,520 embeddings.\n",
      "[Apr 11, 12:46:49] [0] \t\t #> Saving the indexing plan to /home/sondors/Documents/price/ColBERT/tutorial/colbert-5387/indexes/models_3907_2bits/plan.json ..\n",
      "Clustering 4294 points in 128D to 1024 clusters, redo 1 times, 4 iterations\n",
      "  Preprocessing in 0.00 s\n",
      "  Iteration 3 (0.00 s, search 0.00 s): objective=411.895 imbalance=1.544 nsplit=0       \n",
      "[Apr 11, 12:46:49] Loading decompress_residuals_cpp extension (set COLBERT_LOAD_TORCH_EXTENSION_VERBOSE=True for more info)...\n"
     ]
    },
    {
     "name": "stderr",
     "output_type": "stream",
     "text": [
      "WARNING clustering 4294 points to 1024 centroids: please provide at least 39936 training points\n"
     ]
    },
    {
     "name": "stdout",
     "output_type": "stream",
     "text": [
      "[Apr 11, 12:46:49] Loading packbits_cpp extension (set COLBERT_LOAD_TORCH_EXTENSION_VERBOSE=True for more info)...\n",
      "[0.025, 0.029, 0.025, 0.028, 0.027, 0.026, 0.022, 0.027, 0.021, 0.025, 0.023, 0.031, 0.024, 0.024, 0.028, 0.029, 0.023, 0.025, 0.023, 0.025, 0.023, 0.027, 0.028, 0.028, 0.027, 0.028, 0.029, 0.026, 0.031, 0.025, 0.025, 0.025, 0.026, 0.024, 0.029, 0.025, 0.025, 0.025, 0.029, 0.027, 0.023, 0.023, 0.028, 0.022, 0.025, 0.025, 0.029, 0.025, 0.023, 0.03, 0.024, 0.023, 0.028, 0.027, 0.025, 0.023, 0.027, 0.025, 0.031, 0.027, 0.024, 0.024, 0.031, 0.028, 0.028, 0.025, 0.024, 0.025, 0.026, 0.022, 0.021, 0.027, 0.024, 0.023, 0.021, 0.025, 0.023, 0.028, 0.03, 0.027, 0.026, 0.024, 0.024, 0.028, 0.029, 0.027, 0.025, 0.026, 0.029, 0.02, 0.028, 0.025, 0.027, 0.023, 0.032, 0.022, 0.026, 0.031, 0.025, 0.022, 0.026, 0.024, 0.024, 0.024, 0.028, 0.022, 0.023, 0.027, 0.03, 0.028, 0.027, 0.028, 0.026, 0.023, 0.027, 0.024, 0.023, 0.028, 0.022, 0.026, 0.029, 0.023, 0.024, 0.025, 0.022, 0.023, 0.03, 0.029]\n",
      "[Apr 11, 12:46:50] #> Got bucket_cutoffs_quantiles = tensor([0.2500, 0.5000, 0.7500], device='cuda:0') and bucket_weights_quantiles = tensor([0.1250, 0.3750, 0.6250, 0.8750], device='cuda:0')\n",
      "[Apr 11, 12:46:50] #> Got bucket_cutoffs = tensor([-0.0124,  0.0002,  0.0136], device='cuda:0') and bucket_weights = tensor([-0.0338, -0.0044,  0.0048,  0.0362], device='cuda:0')\n",
      "[Apr 11, 12:46:50] avg_residual = 0.0257568359375\n",
      "[Apr 11, 12:46:50] [0] \t\t #> Encoding 498 passages..\n"
     ]
    },
    {
     "name": "stderr",
     "output_type": "stream",
     "text": [
      "1it [00:00,  6.91it/s]\n",
      "100%|██████████| 1/1 [00:00<00:00, 4733.98it/s]\n",
      "100%|██████████| 1024/1024 [00:00<00:00, 268167.29it/s]\n"
     ]
    },
    {
     "name": "stdout",
     "output_type": "stream",
     "text": [
      "[Apr 11, 12:46:50] [0] \t\t #> Saving chunk 0: \t 498 passages and 4,520 embeddings. From #0 onward.\n",
      "[Apr 11, 12:46:50] [0] \t\t #> Checking all files were saved...\n",
      "[Apr 11, 12:46:50] [0] \t\t Found all files!\n",
      "[Apr 11, 12:46:50] [0] \t\t #> Building IVF...\n",
      "[Apr 11, 12:46:50] [0] \t\t #> Loading codes...\n",
      "[Apr 11, 12:46:50] [0] \t\t Sorting codes...\n",
      "[Apr 11, 12:46:50] [0] \t\t Getting unique codes...\n",
      "[Apr 11, 12:46:50] #> Optimizing IVF to store map from centroids to list of pids..\n",
      "[Apr 11, 12:46:50] #> Building the emb2pid mapping..\n",
      "[Apr 11, 12:46:50] len(emb2pid) = 4520\n",
      "[Apr 11, 12:46:50] #> Saved optimized IVF to /home/sondors/Documents/price/ColBERT/tutorial/colbert-5387/indexes/models_3907_2bits/ivf.pid.pt\n",
      "[Apr 11, 12:46:50] [0] \t\t #> Saving the indexing metadata to /home/sondors/Documents/price/ColBERT/tutorial/colbert-5387/indexes/models_3907_2bits/metadata.json ..\n",
      "#> Joined...\n",
      "[Apr 11, 12:46:50] #> Loading collection...\n",
      "0M \n",
      "\n",
      "\n",
      "[Apr 11, 12:46:50] #> Note: Output directory /home/sondors/Documents/price/ColBERT/tutorial/colbert-5387/indexes/models_280801_2bits already exists\n",
      "\n",
      "\n",
      "[Apr 11, 12:46:50] #> Will delete 10 files already at /home/sondors/Documents/price/ColBERT/tutorial/colbert-5387/indexes/models_280801_2bits in 20 seconds...\n",
      "#> Starting...\n",
      "nranks = 1 \t num_gpus = 1 \t device=0\n",
      "{\n",
      "    \"query_token_id\": \"[unused0]\",\n",
      "    \"doc_token_id\": \"[unused1]\",\n",
      "    \"query_token\": \"[Q]\",\n",
      "    \"doc_token\": \"[D]\",\n",
      "    \"ncells\": null,\n",
      "    \"centroid_score_threshold\": null,\n",
      "    \"ndocs\": null,\n",
      "    \"load_index_with_mmap\": false,\n",
      "    \"index_path\": null,\n",
      "    \"nbits\": 2,\n",
      "    \"kmeans_niters\": 4,\n",
      "    \"resume\": false,\n",
      "    \"similarity\": \"cosine\",\n",
      "    \"bsize\": 64,\n",
      "    \"accumsteps\": 1,\n",
      "    \"lr\": 0.0001,\n",
      "    \"maxsteps\": 5387,\n",
      "    \"save_every\": null,\n",
      "    \"warmup\": 0,\n",
      "    \"warmup_bert\": null,\n",
      "    \"relu\": false,\n",
      "    \"nway\": 2,\n",
      "    \"use_ib_negatives\": true,\n",
      "    \"reranker\": false,\n",
      "    \"distillation_alpha\": 1.0,\n",
      "    \"ignore_scores\": false,\n",
      "    \"model_name\": null,\n",
      "    \"query_maxlen\": 32,\n",
      "    \"attend_to_mask_tokens\": false,\n",
      "    \"interaction\": \"colbert\",\n",
      "    \"dim\": 128,\n",
      "    \"doc_maxlen\": 300,\n",
      "    \"mask_punctuation\": true,\n",
      "    \"checkpoint\": \"\\/home\\/sondors\\/Documents\\/ColBERT_weights\\/triples_X1_13_categories_use_ib_negatives\\/none\\/2024-01\\/26\\/10.49.44\\/checkpoints\\/colbert-5387-finish\",\n",
      "    \"triples\": \"\\/mnt\\/vdb1\\/Datasets\\/ColBERT_data\\/13_categories\\/train\\/triples_X1_13_categories_shuffle.json\",\n",
      "    \"collection\": \"\\/home\\/sondors\\/Documents\\/price\\/ColBERT\\/tutorial\\/tsv\\/280801_models.tsv\",\n",
      "    \"queries\": \"\\/mnt\\/vdb1\\/Datasets\\/ColBERT_data\\/13_categories\\/train\\/queries_train_13_categories.tsv\",\n",
      "    \"index_name\": \"models_280801_2bits\",\n",
      "    \"overwrite\": false,\n",
      "    \"root\": \"\\/home\\/sondors\\/Documents\\/price\\/ColBERT\\/tutorial\",\n",
      "    \"experiment\": \"colbert-5387\",\n",
      "    \"index_root\": null,\n",
      "    \"name\": \"2024-04\\/11\\/12.41.36\",\n",
      "    \"rank\": 0,\n",
      "    \"nranks\": 1,\n",
      "    \"amp\": true,\n",
      "    \"gpus\": 1\n",
      "}\n",
      "[Apr 11, 12:47:12] [0] \t\t # of sampled PIDs = 1709 \t sampled_pids[:3] = [853, 1500, 20]\n",
      "[Apr 11, 12:47:12] [0] \t\t #> Encoding 1709 passages..\n",
      "[Apr 11, 12:47:14] [0] \t\t avg_doclen_est = 9.210649490356445 \t len(local_sample) = 1,709\n",
      "[Apr 11, 12:47:14] [0] \t\t Creaing 1,024 partitions.\n",
      "[Apr 11, 12:47:14] [0] \t\t *Estimated* 15,740 embeddings.\n",
      "[Apr 11, 12:47:14] [0] \t\t #> Saving the indexing plan to /home/sondors/Documents/price/ColBERT/tutorial/colbert-5387/indexes/models_280801_2bits/plan.json ..\n",
      "Clustering 14954 points in 128D to 1024 clusters, redo 1 times, 4 iterations\n",
      "  Preprocessing in 0.00 s\n",
      "  Iteration 3 (0.01 s, search 0.01 s): objective=3083.42 imbalance=1.547 nsplit=0       \n",
      "[Apr 11, 12:47:14] Loading decompress_residuals_cpp extension (set COLBERT_LOAD_TORCH_EXTENSION_VERBOSE=True for more info)...\n"
     ]
    },
    {
     "name": "stderr",
     "output_type": "stream",
     "text": [
      "WARNING clustering 14954 points to 1024 centroids: please provide at least 39936 training points\n"
     ]
    },
    {
     "name": "stdout",
     "output_type": "stream",
     "text": [
      "[Apr 11, 12:47:14] Loading packbits_cpp extension (set COLBERT_LOAD_TORCH_EXTENSION_VERBOSE=True for more info)...\n",
      "[0.031, 0.031, 0.029, 0.032, 0.034, 0.031, 0.03, 0.033, 0.028, 0.032, 0.031, 0.035, 0.032, 0.035, 0.031, 0.036, 0.03, 0.031, 0.028, 0.03, 0.031, 0.034, 0.032, 0.03, 0.03, 0.035, 0.034, 0.037, 0.033, 0.032, 0.03, 0.031, 0.032, 0.031, 0.034, 0.036, 0.029, 0.03, 0.037, 0.029, 0.03, 0.033, 0.036, 0.031, 0.034, 0.032, 0.032, 0.029, 0.032, 0.03, 0.032, 0.031, 0.034, 0.03, 0.035, 0.029, 0.034, 0.029, 0.034, 0.034, 0.03, 0.03, 0.035, 0.038, 0.032, 0.031, 0.029, 0.029, 0.029, 0.03, 0.03, 0.033, 0.034, 0.031, 0.029, 0.03, 0.033, 0.031, 0.035, 0.031, 0.031, 0.029, 0.035, 0.03, 0.03, 0.03, 0.031, 0.033, 0.034, 0.029, 0.034, 0.035, 0.033, 0.028, 0.03, 0.031, 0.029, 0.034, 0.035, 0.028, 0.03, 0.028, 0.031, 0.031, 0.032, 0.032, 0.034, 0.032, 0.033, 0.032, 0.029, 0.032, 0.03, 0.028, 0.03, 0.027, 0.029, 0.031, 0.029, 0.031, 0.036, 0.03, 0.033, 0.035, 0.03, 0.031, 0.034, 0.033]\n",
      "[Apr 11, 12:47:14] #> Got bucket_cutoffs_quantiles = tensor([0.2500, 0.5000, 0.7500], device='cuda:0') and bucket_weights_quantiles = tensor([0.1250, 0.3750, 0.6250, 0.8750], device='cuda:0')\n",
      "[Apr 11, 12:47:14] #> Got bucket_cutoffs = tensor([-0.0196, -0.0001,  0.0190], device='cuda:0') and bucket_weights = tensor([-0.0458, -0.0070,  0.0067,  0.0446], device='cuda:0')\n",
      "[Apr 11, 12:47:14] avg_residual = 0.03167724609375\n",
      "[Apr 11, 12:47:14] [0] \t\t #> Encoding 1709 passages..\n"
     ]
    },
    {
     "name": "stderr",
     "output_type": "stream",
     "text": [
      "0it [00:00, ?it/s]"
     ]
    },
    {
     "name": "stdout",
     "output_type": "stream",
     "text": [
      "[Apr 11, 12:47:15] [0] \t\t #> Saving chunk 0: \t 1,709 passages and 15,741 embeddings. From #0 onward.\n",
      "[Apr 11, 12:47:15] [0] \t\t #> Checking all files were saved...\n",
      "[Apr 11, 12:47:15] [0] \t\t Found all files!\n",
      "[Apr 11, 12:47:15] [0] \t\t #> Building IVF...\n",
      "[Apr 11, 12:47:15] [0] \t\t #> Loading codes...\n",
      "[Apr 11, 12:47:15] [0] \t\t Sorting codes...\n",
      "[Apr 11, 12:47:15] [0] \t\t Getting unique codes...\n",
      "[Apr 11, 12:47:15] #> Optimizing IVF to store map from centroids to list of pids..\n",
      "[Apr 11, 12:47:15] #> Building the emb2pid mapping..\n",
      "[Apr 11, 12:47:15] len(emb2pid) = 15741\n",
      "[Apr 11, 12:47:15] #> Saved optimized IVF to /home/sondors/Documents/price/ColBERT/tutorial/colbert-5387/indexes/models_280801_2bits/ivf.pid.pt\n",
      "[Apr 11, 12:47:15] [0] \t\t #> Saving the indexing metadata to /home/sondors/Documents/price/ColBERT/tutorial/colbert-5387/indexes/models_280801_2bits/metadata.json ..\n"
     ]
    },
    {
     "name": "stderr",
     "output_type": "stream",
     "text": [
      "1it [00:00,  1.56it/s]\n",
      "100%|██████████| 1/1 [00:00<00:00, 2636.27it/s]\n",
      "100%|██████████| 1024/1024 [00:00<00:00, 169426.72it/s]\n"
     ]
    },
    {
     "name": "stdout",
     "output_type": "stream",
     "text": [
      "#> Joined...\n"
     ]
    }
   ],
   "source": [
    "for cat_id in id_category.keys():\n",
    "    models_colbert = Collection(path=os.path.join(dst_fld, \"tsv\", f\"{cat_id}_models.tsv\"))\n",
    "    index_name = f'models_{cat_id}_{nbits}bits'\n",
    "    indexer = save_index(ckpt_pth, doc_maxlen, nbits, kmeans_niters, nranks, dst_fld, experiment, models_colbert, index_name)"
   ]
  },
  {
   "cell_type": "markdown",
   "metadata": {},
   "source": [
    "### Поиск матча по индексу\n",
    "\n",
    "Запуск 77к офферов на поиск матча среди 13 категорий или 41к шт моделей занимает 20 мин на CPU"
   ]
  },
  {
   "cell_type": "code",
   "execution_count": 4,
   "metadata": {},
   "outputs": [
    {
     "name": "stdout",
     "output_type": "stream",
     "text": [
      "[Apr 11, 17:59:30] #> Loading collection...\n",
      "0M \n",
      "[Apr 11, 17:59:31] #> Loading codec...\n",
      "[Apr 11, 17:59:31] Loading decompress_residuals_cpp extension (set COLBERT_LOAD_TORCH_EXTENSION_VERBOSE=True for more info)...\n",
      "[Apr 11, 17:59:32] Loading packbits_cpp extension (set COLBERT_LOAD_TORCH_EXTENSION_VERBOSE=True for more info)...\n",
      "[Apr 11, 17:59:32] #> Loading IVF...\n",
      "[Apr 11, 17:59:32] #> Loading doclens...\n"
     ]
    },
    {
     "name": "stderr",
     "output_type": "stream",
     "text": [
      "100%|██████████| 1/1 [00:00<00:00, 1171.27it/s]"
     ]
    },
    {
     "name": "stdout",
     "output_type": "stream",
     "text": [
      "[Apr 11, 17:59:32] #> Loading codes and residuals...\n"
     ]
    },
    {
     "name": "stderr",
     "output_type": "stream",
     "text": [
      "\n",
      "100%|██████████| 1/1 [00:00<00:00, 344.36it/s]"
     ]
    },
    {
     "name": "stdout",
     "output_type": "stream",
     "text": [
      "\n",
      "#> QueryTokenizer.tensorize(batch_text[0], batch_background[0], bsize) ==\n",
      "#> Input: . Samsung Планшет Samsung Galaxy Tab S8, 8 ГБ/128 ГБ, Wi-Fi + Cellular, со стилусом, графит (Global), \t\t True, \t\t None\n",
      "#> Output IDs: torch.Size([32]), tensor([  101,     1, 19102,  1194, 29436, 28995, 29753, 15290, 22919, 19102,\n",
      "         9088, 21628,  1055,  2620,  1010,  1022,  1183, 29740,  1013, 11899,\n",
      "         1183, 29740,  1010, 15536,  1011, 10882,  1009, 12562,  1010,  1196,\n",
      "        14150,   102])\n",
      "#> Output Mask: torch.Size([32]), tensor([1, 1, 1, 1, 1, 1, 1, 1, 1, 1, 1, 1, 1, 1, 1, 1, 1, 1, 1, 1, 1, 1, 1, 1,\n",
      "        1, 1, 1, 1, 1, 1, 1, 1])\n",
      "\n"
     ]
    },
    {
     "name": "stderr",
     "output_type": "stream",
     "text": [
      "\n",
      "3it [00:00, 130.12it/s]\n"
     ]
    }
   ],
   "source": [
    "offers = {\n",
    "    0: 'Samsung Планшет Samsung Galaxy Tab S8, 8 ГБ/128 ГБ, Wi-Fi + Cellular, со стилусом, графит (Global)',\n",
    "    1: 'Планшет Samsung Galaxy Tab S8 128GB 5G Silver (SM-X706B)',\n",
    "    2: 'Планшет Samsung Galaxy Tab S8+ 128GB Wi-Fi Pink Gold (SM-X800)'\n",
    "    }\n",
    "\n",
    "cat_id = 510401 # планшеты\n",
    "index_name = f'models_{cat_id}_{nbits}bits'\n",
    "models_id_colbert = Collection(path=os.path.join(src_fld, \"tsv\", f\"{cat_id}_models_id.tsv\"))\n",
    "\n",
    "top_n = top_n_similar_by_index(offers, src_fld, nranks, experiment, index_name, models_id_colbert, 5)"
   ]
  },
  {
   "cell_type": "markdown",
   "metadata": {},
   "source": [
    "### Получаем выдачу топ N моделей для каждого оффера"
   ]
  },
  {
   "cell_type": "code",
   "execution_count": 5,
   "metadata": {},
   "outputs": [
    {
     "name": "stdout",
     "output_type": "stream",
     "text": [
      "Samsung Планшет Samsung Galaxy Tab S8, 8 ГБ/128 ГБ, Wi-Fi + Cellular, со стилусом, графит (Global)\n",
      "\t5144478: Samsung Galaxy Tab S8 --> 25.52\n",
      "\t5144479: Samsung Galaxy Tab S8 Ultra --> 22.27\n",
      "\t3843929: Samsung Galaxy Tab S4 10.5 SM-T835 --> 21.06\n",
      "\t623215: Samsung Galaxy Tab S 8.4 SM-T700 --> 19.8\n",
      "\t4892891: Samsung Galaxy Tab A8 10.5 128Gb --> 19.64\n",
      "____________________________________________________________\n",
      "Планшет Samsung Galaxy Tab S8 128GB 5G Silver (SM-X706B)\n",
      "\t5144478: Samsung Galaxy Tab S8 --> 25.11\n",
      "\t5144479: Samsung Galaxy Tab S8 Ultra --> 21.67\n",
      "\t3843929: Samsung Galaxy Tab S4 10.5 SM-T835 --> 21.3\n",
      "\t1464907: Samsung Galaxy Tab S3 9.7 SM-T820 --> 19.66\n",
      "\t623215: Samsung Galaxy Tab S 8.4 SM-T700 --> 19.5\n",
      "____________________________________________________________\n",
      "Планшет Samsung Galaxy Tab S8+ 128GB Wi-Fi Pink Gold (SM-X800)\n",
      "\t5144477: Samsung Galaxy Tab S8+ --> 23.27\n",
      "\t4509798: Samsung Galaxy Tab S7+ 12.4 128Gb --> 19.52\n",
      "\t5144478: Samsung Galaxy Tab S8 --> 19.48\n",
      "\t623213: Samsung Galaxy Tab S 10.5 SM-T800 --> 19.48\n",
      "\t5144479: Samsung Galaxy Tab S8 Ultra --> 18.19\n",
      "____________________________________________________________\n"
     ]
    }
   ],
   "source": [
    "id_to_name = dict(zip(df_models['model_id'], df_models['full_name']))\n",
    "for i in range(len(top_n)):\n",
    "    print(offers[i])\n",
    "    for j in range(len(top_n[i]['model_ids'])):\n",
    "        id = top_n[i]['model_ids'][j]\n",
    "        sim = top_n[i]['similarity'][j]\n",
    "        model = id_to_name[id]\n",
    "        print(f\"\\t{id}: {model} --> {round(float(sim), 2)}\")\n",
    "    print(\"_\"*60)"
   ]
  },
  {
   "cell_type": "code",
   "execution_count": 6,
   "metadata": {},
   "outputs": [
    {
     "data": {
      "text/plain": [
       "[{'model_ids': [5144478, 5144479, 3843929, 623215, 4892891],\n",
       "  'similarity': [25.515625, 22.265625, 21.0625, 19.796875, 19.640625]},\n",
       " {'model_ids': [5144478, 5144479, 3843929, 1464907, 623215],\n",
       "  'similarity': [25.109375, 21.671875, 21.296875, 19.65625, 19.5]},\n",
       " {'model_ids': [5144477, 4509798, 5144478, 623213, 5144479],\n",
       "  'similarity': [23.265625, 19.515625, 19.484375, 19.484375, 18.1875]}]"
      ]
     },
     "execution_count": 6,
     "metadata": {},
     "output_type": "execute_result"
    }
   ],
   "source": [
    "top_n"
   ]
  },
  {
   "cell_type": "markdown",
   "metadata": {},
   "source": [
    "# ColBERT нестандартное использование"
   ]
  },
  {
   "cell_type": "markdown",
   "metadata": {},
   "source": [
    "### Получение similarity без индексирования\n",
    "\n",
    "Так же можно использовать ColBERT без предварительного индексирования и поиска матча по индексу. Возможно получение similarity для пары строк, для одной строки со списком строк или для каждой пары элементов из двух списков строк. "
   ]
  },
  {
   "cell_type": "code",
   "execution_count": 7,
   "metadata": {},
   "outputs": [
    {
     "name": "stdout",
     "output_type": "stream",
     "text": [
      "\n",
      "#> QueryTokenizer.tensorize(batch_text[0], batch_background[0], bsize) ==\n",
      "#> Input: . Смартфон Apple iPhone 11 Pro Max 256Gb Gold (MGDE3RU/A), \t\t True, \t\t None\n",
      "#> Output IDs: torch.Size([32]), tensor([  101,     1,  1196, 29745, 10260, 16856, 22919, 29749, 14150, 18947,\n",
      "         6207, 18059,  2340,  4013,  4098, 17273, 18259,  2751,  1006, 11460,\n",
      "         3207,  2509,  6820,  1013,  1037,  1007,   102,   103,   103,   103,\n",
      "          103,   103])\n",
      "#> Output Mask: torch.Size([32]), tensor([1, 1, 1, 1, 1, 1, 1, 1, 1, 1, 1, 1, 1, 1, 1, 1, 1, 1, 1, 1, 1, 1, 1, 1,\n",
      "        1, 1, 1, 0, 0, 0, 0, 0])\n",
      "\n",
      "batch: 1/1\n",
      "Смартфон Apple iPhone 11 Pro Max 256Gb Gold (MGDE3RU/A):\n",
      "similarity = 23.390625: Смартфон Apple iPhone 12 Pro Max 256Gb Gold\n",
      "similarity = 27.34375: Apple iPhone Pro Max 11\n",
      "similarity = 23.71875: модель iPhone номер 11 серия Pro Max бренд Apple\n"
     ]
    }
   ],
   "source": [
    "query1 = \"Смартфон Apple iPhone 11 Pro Max 256Gb Gold (MGDE3RU/A)\"\n",
    "document1 = \"Смартфон Apple iPhone 12 Pro Max 256Gb Gold\"\n",
    "document2 = \"Apple iPhone Pro Max 11\"\n",
    "document3 = \"модель iPhone номер 11 серия Pro Max бренд Apple\"\n",
    "\n",
    "scores = pair_scores(ckpt_pth, doc_maxlen, nbits, kmeans_niters, [query1], [document1, document2, document3], 100, \"cpu\")\n",
    "print(f\"{query1}:\")\n",
    "print(f\"similarity = {scores[0][0]}: {document1}\")\n",
    "print(f\"similarity = {scores[0][1]}: {document2}\")\n",
    "print(f\"similarity = {scores[0][2]}: {document3}\")"
   ]
  }
 ],
 "metadata": {
  "kernelspec": {
   "display_name": "torch_gpu",
   "language": "python",
   "name": "python3"
  },
  "language_info": {
   "codemirror_mode": {
    "name": "ipython",
    "version": 3
   },
   "file_extension": ".py",
   "mimetype": "text/x-python",
   "name": "python",
   "nbconvert_exporter": "python",
   "pygments_lexer": "ipython3",
   "version": "3.8.18"
  },
  "orig_nbformat": 4
 },
 "nbformat": 4,
 "nbformat_minor": 2
}
