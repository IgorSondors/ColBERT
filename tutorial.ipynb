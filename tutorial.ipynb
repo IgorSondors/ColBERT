{
 "cells": [
  {
   "cell_type": "markdown",
   "metadata": {},
   "source": [
    "### Импорты, параметры ColBERT"
   ]
  },
  {
   "cell_type": "code",
   "execution_count": 1,
   "metadata": {},
   "outputs": [],
   "source": [
    "from interface import prepare_tsv, save_index, top_n_similar, Collection\n",
    "import pandas as pd\n",
    "import os\n",
    "\n",
    "ckpt_pth = \"/home/sondors/Documents/ColBERT_weights/bert-base-multilingual-cased_dim_768_bsize_230_lr04_use_ib_negatives/none/2024-01/27/16.55.29/checkpoints/colbert-2998-finish\"\n",
    "experiment = \"bert-base-multilingual-cased-2998\"\n",
    "\n",
    "doc_maxlen = 300\n",
    "nbits = 2   # bits определяет количество битов у каждого измерения в семантическом пространстве во время индексации\n",
    "nranks = 1  # nranks определяет количество GPU для использования, если они доступны\n",
    "kmeans_niters = 4 # kmeans_niters указывает количество итераций k-means кластеризации; 4 — хороший и быстрый вариант по умолчанию.  "
   ]
  },
  {
   "cell_type": "markdown",
   "metadata": {},
   "source": [
    "### Подготовка моделей (на что матчить оффера - это может быть и смесь офферов и моделей)"
   ]
  },
  {
   "cell_type": "code",
   "execution_count": 2,
   "metadata": {},
   "outputs": [
    {
     "name": "stderr",
     "output_type": "stream",
     "text": [
      "/tmp/ipykernel_31058/17807022.py:2: DtypeWarning: Columns (5) have mixed types. Specify dtype option on import or set low_memory=False.\n",
      "  df_models = pd.read_csv(pth_models, sep=\";\")\n"
     ]
    },
    {
     "data": {
      "text/html": [
       "<div>\n",
       "<style scoped>\n",
       "    .dataframe tbody tr th:only-of-type {\n",
       "        vertical-align: middle;\n",
       "    }\n",
       "\n",
       "    .dataframe tbody tr th {\n",
       "        vertical-align: top;\n",
       "    }\n",
       "\n",
       "    .dataframe thead th {\n",
       "        text-align: right;\n",
       "    }\n",
       "</style>\n",
       "<table border=\"1\" class=\"dataframe\">\n",
       "  <thead>\n",
       "    <tr style=\"text-align: right;\">\n",
       "      <th></th>\n",
       "      <th>model_id</th>\n",
       "      <th>average_price</th>\n",
       "      <th>name</th>\n",
       "      <th>brand_name</th>\n",
       "      <th>full_name</th>\n",
       "      <th>comment</th>\n",
       "      <th>category_name</th>\n",
       "      <th>category_id</th>\n",
       "    </tr>\n",
       "  </thead>\n",
       "  <tbody>\n",
       "    <tr>\n",
       "      <th>0</th>\n",
       "      <td>623742</td>\n",
       "      <td>NaN</td>\n",
       "      <td>920-005619</td>\n",
       "      <td>Logitech</td>\n",
       "      <td>Logitech 920-005619</td>\n",
       "      <td>NaN</td>\n",
       "      <td>чехлы, обложки для гаджетов (телефонов, планше...</td>\n",
       "      <td>3994</td>\n",
       "    </tr>\n",
       "    <tr>\n",
       "      <th>1</th>\n",
       "      <td>721952</td>\n",
       "      <td>NaN</td>\n",
       "      <td>Zipper Bag</td>\n",
       "      <td>Hama</td>\n",
       "      <td>Hama Zipper Bag</td>\n",
       "      <td>NaN</td>\n",
       "      <td>чехлы, обложки для гаджетов (телефонов, планше...</td>\n",
       "      <td>3994</td>\n",
       "    </tr>\n",
       "    <tr>\n",
       "      <th>2</th>\n",
       "      <td>721970</td>\n",
       "      <td>NaN</td>\n",
       "      <td>CC-3064</td>\n",
       "      <td>Nokia</td>\n",
       "      <td>Nokia CC-3064</td>\n",
       "      <td>NaN</td>\n",
       "      <td>чехлы, обложки для гаджетов (телефонов, планше...</td>\n",
       "      <td>3994</td>\n",
       "    </tr>\n",
       "    <tr>\n",
       "      <th>3</th>\n",
       "      <td>751488</td>\n",
       "      <td>990.0</td>\n",
       "      <td>CKS-X7/R</td>\n",
       "      <td>Sony</td>\n",
       "      <td>Sony CKS-X7/R</td>\n",
       "      <td>NaN</td>\n",
       "      <td>чехлы, обложки для гаджетов (телефонов, планше...</td>\n",
       "      <td>3994</td>\n",
       "    </tr>\n",
       "    <tr>\n",
       "      <th>4</th>\n",
       "      <td>751989</td>\n",
       "      <td>NaN</td>\n",
       "      <td>EP-031023</td>\n",
       "      <td>Era Pro</td>\n",
       "      <td>Era Pro EP-031023</td>\n",
       "      <td>NaN</td>\n",
       "      <td>чехлы, обложки для гаджетов (телефонов, планше...</td>\n",
       "      <td>3994</td>\n",
       "    </tr>\n",
       "    <tr>\n",
       "      <th>...</th>\n",
       "      <td>...</td>\n",
       "      <td>...</td>\n",
       "      <td>...</td>\n",
       "      <td>...</td>\n",
       "      <td>...</td>\n",
       "      <td>...</td>\n",
       "      <td>...</td>\n",
       "      <td>...</td>\n",
       "    </tr>\n",
       "    <tr>\n",
       "      <th>103209</th>\n",
       "      <td>7049424</td>\n",
       "      <td>16459.0</td>\n",
       "      <td>MD-108</td>\n",
       "      <td>Mivo</td>\n",
       "      <td>Mivo MD-108</td>\n",
       "      <td>NaN</td>\n",
       "      <td>портативная акустика</td>\n",
       "      <td>3904</td>\n",
       "    </tr>\n",
       "    <tr>\n",
       "      <th>103210</th>\n",
       "      <td>7049425</td>\n",
       "      <td>8812.0</td>\n",
       "      <td>MD-165</td>\n",
       "      <td>Mivo</td>\n",
       "      <td>Mivo MD-165</td>\n",
       "      <td>NaN</td>\n",
       "      <td>портативная акустика</td>\n",
       "      <td>3904</td>\n",
       "    </tr>\n",
       "    <tr>\n",
       "      <th>103211</th>\n",
       "      <td>7049426</td>\n",
       "      <td>4240.0</td>\n",
       "      <td>Boost 20W</td>\n",
       "      <td>Rocket</td>\n",
       "      <td>Rocket Boost 20W</td>\n",
       "      <td>NaN</td>\n",
       "      <td>портативная акустика</td>\n",
       "      <td>3904</td>\n",
       "    </tr>\n",
       "    <tr>\n",
       "      <th>103212</th>\n",
       "      <td>7049427</td>\n",
       "      <td>2990.0</td>\n",
       "      <td>Motion 10W</td>\n",
       "      <td>Rocket</td>\n",
       "      <td>Rocket Motion 10W</td>\n",
       "      <td>NaN</td>\n",
       "      <td>портативная акустика</td>\n",
       "      <td>3904</td>\n",
       "    </tr>\n",
       "    <tr>\n",
       "      <th>103213</th>\n",
       "      <td>7049428</td>\n",
       "      <td>8900.0</td>\n",
       "      <td>Z1</td>\n",
       "      <td>SmartBuy</td>\n",
       "      <td>SmartBuy Z1</td>\n",
       "      <td>NaN</td>\n",
       "      <td>портативная акустика</td>\n",
       "      <td>3904</td>\n",
       "    </tr>\n",
       "  </tbody>\n",
       "</table>\n",
       "<p>103214 rows × 8 columns</p>\n",
       "</div>"
      ],
      "text/plain": [
       "        model_id  average_price        name brand_name            full_name  \\\n",
       "0         623742            NaN  920-005619   Logitech  Logitech 920-005619   \n",
       "1         721952            NaN  Zipper Bag       Hama      Hama Zipper Bag   \n",
       "2         721970            NaN     CC-3064      Nokia        Nokia CC-3064   \n",
       "3         751488          990.0    CKS-X7/R       Sony        Sony CKS-X7/R   \n",
       "4         751989            NaN   EP-031023    Era Pro    Era Pro EP-031023   \n",
       "...          ...            ...         ...        ...                  ...   \n",
       "103209   7049424        16459.0      MD-108       Mivo          Mivo MD-108   \n",
       "103210   7049425         8812.0      MD-165       Mivo          Mivo MD-165   \n",
       "103211   7049426         4240.0   Boost 20W     Rocket     Rocket Boost 20W   \n",
       "103212   7049427         2990.0  Motion 10W     Rocket    Rocket Motion 10W   \n",
       "103213   7049428         8900.0          Z1   SmartBuy          SmartBuy Z1   \n",
       "\n",
       "       comment                                      category_name  category_id  \n",
       "0          NaN  чехлы, обложки для гаджетов (телефонов, планше...         3994  \n",
       "1          NaN  чехлы, обложки для гаджетов (телефонов, планше...         3994  \n",
       "2          NaN  чехлы, обложки для гаджетов (телефонов, планше...         3994  \n",
       "3          NaN  чехлы, обложки для гаджетов (телефонов, планше...         3994  \n",
       "4          NaN  чехлы, обложки для гаджетов (телефонов, планше...         3994  \n",
       "...        ...                                                ...          ...  \n",
       "103209     NaN                               портативная акустика         3904  \n",
       "103210     NaN                               портативная акустика         3904  \n",
       "103211     NaN                               портативная акустика         3904  \n",
       "103212     NaN                               портативная акустика         3904  \n",
       "103213     NaN                               портативная акустика         3904  \n",
       "\n",
       "[103214 rows x 8 columns]"
      ]
     },
     "execution_count": 2,
     "metadata": {},
     "output_type": "execute_result"
    }
   ],
   "source": [
    "pth_models = \"/home/sondors/Documents/price/ColBERT_data/18_categories/test/models_18_categories.csv\"\n",
    "df_models = pd.read_csv(pth_models, sep=\";\")\n",
    "df_models"
   ]
  },
  {
   "cell_type": "code",
   "execution_count": 3,
   "metadata": {},
   "outputs": [],
   "source": [
    "id_category = {\n",
    "    # 3902: 'диктофоны, портативные рекордеры',\n",
    "    # 510402: 'электронные книги',\n",
    "    # 4302: 'автомобильные телевизоры, мониторы',\n",
    "    # 2815: 'смарт-часы и браслеты',\n",
    "    # 3901: 'портативные медиаплееры',\n",
    "    # 3904: 'портативная акустика',\n",
    "    # 2801: 'мобильные телефоны',\n",
    "    # 3908: 'VR-гарнитуры (VR-очки, шлемы, очки виртуальной реальности, FPV очки для квадрокоптеров)',\n",
    "    510401: 'планшетные компьютеры и мини-планшеты',\n",
    "    # 2102: 'наушники, гарнитуры, наушники c микрофоном',\n",
    "    # 3903: 'радиоприемники, радиобудильники, радиочасы',\n",
    "    # 3907: 'магнитолы',\n",
    "    # 280801: 'GPS-навигаторы'\n",
    "    }\n",
    "\n",
    "dst_fld = \"/home/sondors/Documents/price/ColBERT/tutorial\"\n",
    "for cat_id in id_category.keys():\n",
    "    category_models = df_models[df_models.category_id == cat_id].reset_index(drop=True)\n",
    "    prepare_tsv(category_models, dst_fld, cat_id)"
   ]
  },
  {
   "cell_type": "markdown",
   "metadata": {},
   "source": [
    "### Индексируем модели и сохраняем индекс на диск"
   ]
  },
  {
   "cell_type": "code",
   "execution_count": 4,
   "metadata": {},
   "outputs": [
    {
     "name": "stdout",
     "output_type": "stream",
     "text": [
      "[Feb 07, 19:42:47] #> Loading collection...\n",
      "0M \n",
      "\n",
      "\n",
      "[Feb 07, 19:42:47] #> Note: Output directory /home/sondors/Documents/price/ColBERT/tutorial/bert-base-multilingual-cased-2998/indexes/models_510401_2bits already exists\n",
      "\n",
      "\n",
      "[Feb 07, 19:42:47] #> Will delete 10 files already at /home/sondors/Documents/price/ColBERT/tutorial/bert-base-multilingual-cased-2998/indexes/models_510401_2bits in 20 seconds...\n",
      "#> Starting...\n",
      "{\n",
      "    \"query_token_id\": \"[unused0]\",\n",
      "    \"doc_token_id\": \"[unused1]\",\n",
      "    \"query_token\": \"[Q]\",\n",
      "    \"doc_token\": \"[D]\",\n",
      "    \"ncells\": null,\n",
      "    \"centroid_score_threshold\": null,\n",
      "    \"ndocs\": null,\n",
      "    \"load_index_with_mmap\": false,\n",
      "    \"index_path\": null,\n",
      "    \"nbits\": 2,\n",
      "    \"kmeans_niters\": 4,\n",
      "    \"resume\": false,\n",
      "    \"similarity\": \"cosine\",\n",
      "    \"bsize\": 64,\n",
      "    \"accumsteps\": 1,\n",
      "    \"lr\": 0.0001,\n",
      "    \"maxsteps\": 2998,\n",
      "    \"save_every\": null,\n",
      "    \"warmup\": 0,\n",
      "    \"warmup_bert\": null,\n",
      "    \"relu\": false,\n",
      "    \"nway\": 2,\n",
      "    \"use_ib_negatives\": true,\n",
      "    \"reranker\": false,\n",
      "    \"distillation_alpha\": 1.0,\n",
      "    \"ignore_scores\": false,\n",
      "    \"model_name\": null,\n",
      "    \"query_maxlen\": 32,\n",
      "    \"attend_to_mask_tokens\": false,\n",
      "    \"interaction\": \"colbert\",\n",
      "    \"dim\": 768,\n",
      "    \"doc_maxlen\": 300,\n",
      "    \"mask_punctuation\": true,\n",
      "    \"checkpoint\": \"\\/home\\/sondors\\/Documents\\/ColBERT_weights\\/bert-base-multilingual-cased_dim_768_bsize_230_lr04_use_ib_negatives\\/none\\/2024-01\\/27\\/16.55.29\\/checkpoints\\/colbert-2998-finish\",\n",
      "    \"triples\": \"\\/mnt\\/vdb1\\/Datasets\\/ColBERT_data\\/13_categories\\/train\\/triples_X1_13_categories_shuffle.json\",\n",
      "    \"collection\": \"\\/home\\/sondors\\/Documents\\/price\\/ColBERT\\/tutorial\\/tsv\\/510401_models.tsv\",\n",
      "    \"queries\": \"\\/mnt\\/vdb1\\/Datasets\\/ColBERT_data\\/13_categories\\/train\\/queries_train_13_categories.tsv\",\n",
      "    \"index_name\": \"models_510401_2bits\",\n",
      "    \"overwrite\": false,\n",
      "    \"root\": \"\\/home\\/sondors\\/Documents\\/price\\/ColBERT\\/tutorial\",\n",
      "    \"experiment\": \"bert-base-multilingual-cased-2998\",\n",
      "    \"index_root\": null,\n",
      "    \"name\": \"2024-02\\/07\\/19.42.46\",\n",
      "    \"rank\": 0,\n",
      "    \"nranks\": 1,\n",
      "    \"amp\": true,\n",
      "    \"gpus\": 0\n",
      "}\n",
      "[Feb 07, 19:43:10] Loading segmented_maxsim_cpp extension (set COLBERT_LOAD_TORCH_EXTENSION_VERBOSE=True for more info)...\n"
     ]
    },
    {
     "name": "stderr",
     "output_type": "stream",
     "text": [
      "/home/sondors/anaconda3/envs/colbert_cpu/lib/python3.8/site-packages/torch/cuda/amp/grad_scaler.py:118: UserWarning: torch.cuda.amp.GradScaler is enabled, but CUDA is not available.  Disabling.\n",
      "  warnings.warn(\"torch.cuda.amp.GradScaler is enabled, but CUDA is not available.  Disabling.\")\n",
      "  0%|          | 0/50 [00:00<?, ?it/s]/home/sondors/anaconda3/envs/colbert_cpu/lib/python3.8/site-packages/torch/amp/autocast_mode.py:202: UserWarning: User provided device_type of 'cuda', but CUDA is not available. Disabling\n",
      "  warnings.warn('User provided device_type of \\'cuda\\', but CUDA is not available. Disabling')\n"
     ]
    },
    {
     "name": "stdout",
     "output_type": "stream",
     "text": [
      "[Feb 07, 19:43:10] [0] \t\t # of sampled PIDs = 3839 \t sampled_pids[:3] = [1706, 3001, 41]\n",
      "[Feb 07, 19:43:10] [0] \t\t #> Encoding 3839 passages..\n"
     ]
    },
    {
     "name": "stderr",
     "output_type": "stream",
     "text": [
      "100%|██████████| 50/50 [00:29<00:00,  1.67it/s]\n",
      "100%|██████████| 10/10 [00:06<00:00,  1.44it/s]\n",
      "WARNING clustering 38214 points to 2048 centroids: please provide at least 79872 training points\n"
     ]
    },
    {
     "name": "stdout",
     "output_type": "stream",
     "text": [
      "[Feb 07, 19:43:47] [0] \t\t avg_doclen_est = 10.477989196777344 \t len(local_sample) = 3,839\n",
      "[Feb 07, 19:43:47] [0] \t\t Creaing 2,048 partitions.\n",
      "[Feb 07, 19:43:47] [0] \t\t *Estimated* 40,225 embeddings.\n",
      "[Feb 07, 19:43:47] [0] \t\t #> Saving the indexing plan to /home/sondors/Documents/price/ColBERT/tutorial/bert-base-multilingual-cased-2998/indexes/models_510401_2bits/plan.json ..\n",
      "Clustering 38214 points in 768D to 2048 clusters, redo 1 times, 4 iterations\n",
      "  Preprocessing in 0.02 s\n",
      "  Iteration 3 (1.13 s, search 1.10 s): objective=8413.87 imbalance=1.475 nsplit=0       \n",
      "[0.014, 0.013, 0.015, 0.013, 0.017, 0.013, 0.014, 0.014, 0.015, 0.015, 0.013, 0.013, 0.013, 0.013, 0.013, 0.014, 0.013, 0.014, 0.014, 0.015, 0.014, 0.016, 0.013, 0.014, 0.014, 0.016, 0.013, 0.013, 0.012, 0.015, 0.015, 0.015, 0.013, 0.014, 0.015, 0.012, 0.012, 0.013, 0.013, 0.012, 0.016, 0.015, 0.015, 0.014, 0.016, 0.012, 0.013, 0.012, 0.013, 0.012, 0.014, 0.012, 0.016, 0.014, 0.013, 0.014, 0.014, 0.016, 0.012, 0.012, 0.014, 0.013, 0.015, 0.015, 0.014, 0.013, 0.014, 0.015, 0.013, 0.014, 0.014, 0.013, 0.013, 0.013, 0.013, 0.015, 0.015, 0.014, 0.014, 0.012, 0.012, 0.015, 0.013, 0.013, 0.013, 0.013, 0.013, 0.013, 0.016, 0.014, 0.014, 0.014, 0.014, 0.012, 0.013, 0.015, 0.012, 0.014, 0.014, 0.014, 0.012, 0.014, 0.015, 0.013, 0.014, 0.013, 0.014, 0.014, 0.014, 0.013, 0.014, 0.012, 0.013, 0.014, 0.013, 0.015, 0.014, 0.015, 0.013, 0.014, 0.014, 0.012, 0.013, 0.012, 0.016, 0.014, 0.014, 0.015, 0.013, 0.014, 0.013, 0.014, 0.012, 0.014, 0.015, 0.015, 0.014, 0.016, 0.014, 0.013, 0.016, 0.014, 0.012, 0.012, 0.015, 0.014, 0.013, 0.014, 0.014, 0.014, 0.014, 0.013, 0.014, 0.013, 0.013, 0.013, 0.014, 0.014, 0.013, 0.014, 0.016, 0.015, 0.013, 0.014, 0.014, 0.014, 0.013, 0.014, 0.012, 0.014, 0.014, 0.013, 0.015, 0.013, 0.013, 0.014, 0.015, 0.014, 0.013, 0.014, 0.014, 0.014, 0.014, 0.014, 0.014, 0.014, 0.013, 0.015, 0.013, 0.014, 0.013, 0.013, 0.015, 0.013, 0.014, 0.015, 0.012, 0.013, 0.014, 0.013, 0.013, 0.014, 0.014, 0.014, 0.017, 0.013, 0.013, 0.013, 0.013, 0.012, 0.012, 0.015, 0.011, 0.013, 0.013, 0.013, 0.012, 0.013, 0.013, 0.013, 0.013, 0.013, 0.015, 0.015, 0.014, 0.014, 0.015, 0.014, 0.013, 0.013, 0.013, 0.014, 0.015, 0.013, 0.015, 0.013, 0.014, 0.018, 0.011, 0.013, 0.013, 0.012, 0.014, 0.013, 0.013, 0.015, 0.014, 0.015, 0.012, 0.013, 0.013, 0.012, 0.014, 0.013, 0.013, 0.013, 0.014, 0.013, 0.014, 0.012, 0.014, 0.013, 0.014, 0.013, 0.012, 0.012, 0.013, 0.014, 0.013, 0.014, 0.014, 0.012, 0.013, 0.012, 0.014, 0.014, 0.013, 0.013, 0.015, 0.015, 0.014, 0.014, 0.014, 0.016, 0.012, 0.015, 0.014, 0.014, 0.012, 0.013, 0.014, 0.015, 0.014, 0.014, 0.013, 0.013, 0.013, 0.013, 0.013, 0.015, 0.014, 0.014, 0.013, 0.015, 0.014, 0.014, 0.014, 0.015, 0.014, 0.012, 0.014, 0.015, 0.016, 0.012, 0.013, 0.016, 0.012, 0.014, 0.012, 0.013, 0.014, 0.012, 0.013, 0.014, 0.013, 0.013, 0.013, 0.014, 0.013, 0.012, 0.013, 0.013, 0.014, 0.014, 0.014, 0.014, 0.014, 0.013, 0.015, 0.012, 0.013, 0.013, 0.012, 0.012, 0.014, 0.013, 0.013, 0.012, 0.015, 0.012, 0.013, 0.012, 0.013, 0.013, 0.014, 0.013, 0.014, 0.014, 0.012, 0.015, 0.014, 0.015, 0.013, 0.014, 0.015, 0.015, 0.014, 0.013, 0.013, 0.013, 0.015, 0.014, 0.013, 0.012, 0.013, 0.014, 0.013, 0.013, 0.014, 0.014, 0.014, 0.014, 0.016, 0.014, 0.015, 0.014, 0.013, 0.012, 0.012, 0.014, 0.014, 0.013, 0.013, 0.014, 0.015, 0.012, 0.014, 0.016, 0.012, 0.015, 0.013, 0.015, 0.014, 0.014, 0.015, 0.013, 0.013, 0.014, 0.013, 0.014, 0.014, 0.014, 0.013, 0.015, 0.014, 0.013, 0.015, 0.014, 0.014, 0.014, 0.014, 0.014, 0.014, 0.016, 0.013, 0.014, 0.013, 0.014, 0.014, 0.015, 0.014, 0.014, 0.012, 0.012, 0.014, 0.014, 0.013, 0.012, 0.013, 0.013, 0.017, 0.013, 0.015, 0.012, 0.013, 0.013, 0.015, 0.012, 0.013, 0.014, 0.013, 0.014, 0.014, 0.013, 0.013, 0.014, 0.012, 0.013, 0.013, 0.013, 0.014, 0.013, 0.015, 0.012, 0.015, 0.013, 0.014, 0.012, 0.013, 0.013, 0.014, 0.014, 0.013, 0.014, 0.015, 0.014, 0.014, 0.014, 0.014, 0.014, 0.014, 0.012, 0.014, 0.013, 0.012, 0.014, 0.014, 0.012, 0.014, 0.013, 0.015, 0.013, 0.013, 0.016, 0.014, 0.013, 0.015, 0.016, 0.015, 0.013, 0.014, 0.014, 0.013, 0.012, 0.014, 0.013, 0.015, 0.015, 0.012, 0.014, 0.012, 0.014, 0.014, 0.013, 0.012, 0.014, 0.014, 0.013, 0.013, 0.014, 0.014, 0.014, 0.013, 0.015, 0.013, 0.013, 0.014, 0.012, 0.014, 0.014, 0.014, 0.014, 0.014, 0.014, 0.015, 0.013, 0.013, 0.015, 0.012, 0.013, 0.014, 0.013, 0.014, 0.013, 0.015, 0.013, 0.013, 0.013, 0.014, 0.013, 0.012, 0.014, 0.012, 0.013, 0.014, 0.013, 0.015, 0.015, 0.012, 0.013, 0.017, 0.014, 0.011, 0.015, 0.013, 0.012, 0.014, 0.014, 0.012, 0.013, 0.013, 0.015, 0.013, 0.013, 0.013, 0.013, 0.013, 0.015, 0.013, 0.016, 0.012, 0.014, 0.013, 0.015, 0.013, 0.013, 0.014, 0.014, 0.013, 0.015, 0.014, 0.013, 0.012, 0.014, 0.013, 0.012, 0.014, 0.012, 0.014, 0.015, 0.012, 0.013, 0.014, 0.014, 0.013, 0.014, 0.013, 0.012, 0.015, 0.015, 0.013, 0.013, 0.014, 0.014, 0.014, 0.014, 0.013, 0.015, 0.013, 0.014, 0.012, 0.012, 0.013, 0.013, 0.013, 0.014, 0.014, 0.014, 0.014, 0.013, 0.013, 0.014, 0.012, 0.015, 0.013, 0.014, 0.014, 0.014, 0.016, 0.013, 0.016, 0.014, 0.012, 0.014, 0.013, 0.015, 0.011, 0.014, 0.014, 0.012, 0.013, 0.015, 0.016, 0.013, 0.012, 0.013, 0.013, 0.014, 0.014, 0.013, 0.013, 0.014, 0.014, 0.014, 0.013, 0.014, 0.013, 0.012, 0.014, 0.012, 0.012, 0.015, 0.014, 0.013, 0.013, 0.014, 0.016, 0.013, 0.013, 0.013, 0.013, 0.014, 0.012, 0.014, 0.015, 0.013, 0.013, 0.014, 0.013, 0.014, 0.014, 0.014, 0.014, 0.013, 0.013, 0.013, 0.014, 0.015, 0.014, 0.013, 0.013, 0.014, 0.013, 0.012, 0.013, 0.014, 0.014, 0.014, 0.011, 0.013, 0.012, 0.016, 0.012, 0.014, 0.014, 0.013, 0.013, 0.013, 0.014, 0.013, 0.016, 0.013, 0.013, 0.014, 0.014, 0.012, 0.013, 0.013, 0.013, 0.015, 0.013, 0.014, 0.014, 0.014, 0.013, 0.012, 0.015, 0.015, 0.014, 0.014, 0.014, 0.012, 0.014, 0.013, 0.013, 0.013, 0.014, 0.013, 0.013, 0.014, 0.016, 0.015, 0.013, 0.014, 0.015, 0.013, 0.014, 0.013, 0.014, 0.011, 0.015, 0.015, 0.015, 0.013, 0.013, 0.014, 0.013, 0.013]\n",
      "[Feb 07, 19:43:49] #> Got bucket_cutoffs_quantiles = tensor([0.2500, 0.5000, 0.7500]) and bucket_weights_quantiles = tensor([0.1250, 0.3750, 0.6250, 0.8750])\n",
      "[Feb 07, 19:43:49] #> Got bucket_cutoffs = tensor([-9.5907e-03, -2.2310e-05,  9.5237e-03]) and bucket_weights = tensor([-0.0195, -0.0038,  0.0038,  0.0195])\n",
      "[Feb 07, 19:43:49] avg_residual = 0.013620569370687008\n",
      "[Feb 07, 19:43:49] [0] \t\t #> Encoding 3839 passages..\n"
     ]
    },
    {
     "name": "stderr",
     "output_type": "stream",
     "text": [
      "0it [00:00, ?it/s]\n",
      "  0%|          | 0/50 [00:00<?, ?it/s]\u001b[A\n",
      "  2%|▏         | 1/50 [00:00<00:31,  1.56it/s]\u001b[A\n",
      "  4%|▍         | 2/50 [00:01<00:30,  1.58it/s]\u001b[A\n",
      "  6%|▌         | 3/50 [00:01<00:28,  1.67it/s]\u001b[A\n",
      "  8%|▊         | 4/50 [00:02<00:27,  1.69it/s]\u001b[A\n",
      " 10%|█         | 5/50 [00:03<00:27,  1.66it/s]\u001b[A\n",
      " 12%|█▏        | 6/50 [00:03<00:26,  1.67it/s]\u001b[A\n",
      " 14%|█▍        | 7/50 [00:04<00:25,  1.68it/s]\u001b[A\n",
      " 16%|█▌        | 8/50 [00:04<00:25,  1.68it/s]\u001b[A\n",
      " 18%|█▊        | 9/50 [00:05<00:24,  1.70it/s]\u001b[A\n",
      " 20%|██        | 10/50 [00:06<00:24,  1.64it/s]\u001b[A\n",
      " 22%|██▏       | 11/50 [00:06<00:23,  1.63it/s]\u001b[A\n",
      " 24%|██▍       | 12/50 [00:07<00:23,  1.65it/s]\u001b[A\n",
      " 26%|██▌       | 13/50 [00:07<00:22,  1.62it/s]\u001b[A\n",
      " 28%|██▊       | 14/50 [00:08<00:22,  1.60it/s]\u001b[A\n",
      " 30%|███       | 15/50 [00:09<00:22,  1.55it/s]\u001b[A\n",
      " 32%|███▏      | 16/50 [00:09<00:22,  1.54it/s]\u001b[A\n",
      " 34%|███▍      | 17/50 [00:10<00:20,  1.59it/s]\u001b[A\n",
      " 36%|███▌      | 18/50 [00:11<00:20,  1.59it/s]\u001b[A\n",
      " 38%|███▊      | 19/50 [00:11<00:19,  1.62it/s]\u001b[A\n",
      " 40%|████      | 20/50 [00:12<00:19,  1.57it/s]\u001b[A\n",
      " 42%|████▏     | 21/50 [00:13<00:18,  1.54it/s]\u001b[A\n",
      " 44%|████▍     | 22/50 [00:13<00:18,  1.53it/s]\u001b[A\n",
      " 46%|████▌     | 23/50 [00:14<00:19,  1.39it/s]\u001b[A\n",
      " 48%|████▊     | 24/50 [00:15<00:18,  1.42it/s]\u001b[A\n",
      " 50%|█████     | 25/50 [00:15<00:17,  1.44it/s]\u001b[A\n",
      " 52%|█████▏    | 26/50 [00:16<00:16,  1.43it/s]\u001b[A\n",
      " 54%|█████▍    | 27/50 [00:17<00:15,  1.46it/s]\u001b[A\n",
      " 56%|█████▌    | 28/50 [00:17<00:14,  1.47it/s]\u001b[A\n",
      " 58%|█████▊    | 29/50 [00:18<00:14,  1.46it/s]\u001b[A\n",
      " 60%|██████    | 30/50 [00:19<00:13,  1.48it/s]\u001b[A\n",
      " 62%|██████▏   | 31/50 [00:19<00:12,  1.52it/s]\u001b[A\n",
      " 64%|██████▍   | 32/50 [00:20<00:11,  1.53it/s]\u001b[A\n",
      " 66%|██████▌   | 33/50 [00:21<00:11,  1.54it/s]\u001b[A\n",
      " 68%|██████▊   | 34/50 [00:21<00:10,  1.54it/s]\u001b[A\n",
      " 70%|███████   | 35/50 [00:22<00:09,  1.53it/s]\u001b[A\n",
      " 72%|███████▏  | 36/50 [00:23<00:08,  1.56it/s]\u001b[A\n",
      " 74%|███████▍  | 37/50 [00:23<00:08,  1.59it/s]\u001b[A\n",
      " 76%|███████▌  | 38/50 [00:24<00:07,  1.59it/s]\u001b[A\n",
      " 78%|███████▊  | 39/50 [00:24<00:06,  1.59it/s]\u001b[A\n",
      " 80%|████████  | 40/50 [00:25<00:06,  1.58it/s]\u001b[A\n",
      " 82%|████████▏ | 41/50 [00:26<00:05,  1.57it/s]\u001b[A\n",
      " 84%|████████▍ | 42/50 [00:26<00:05,  1.58it/s]\u001b[A\n",
      " 86%|████████▌ | 43/50 [00:27<00:04,  1.59it/s]\u001b[A\n",
      " 88%|████████▊ | 44/50 [00:28<00:03,  1.60it/s]\u001b[A\n",
      " 90%|█████████ | 45/50 [00:28<00:03,  1.61it/s]\u001b[A\n",
      " 92%|█████████▏| 46/50 [00:29<00:02,  1.59it/s]\u001b[A\n",
      " 94%|█████████▍| 47/50 [00:30<00:01,  1.57it/s]\u001b[A\n",
      " 96%|█████████▌| 48/50 [00:30<00:01,  1.57it/s]\u001b[A\n",
      " 98%|█████████▊| 49/50 [00:31<00:00,  1.60it/s]\u001b[A\n",
      "100%|██████████| 50/50 [00:31<00:00,  1.57it/s]\u001b[A\n",
      "\n",
      "  0%|          | 0/10 [00:00<?, ?it/s]\u001b[A\n",
      " 10%|█         | 1/10 [00:00<00:08,  1.05it/s]\u001b[A\n",
      " 20%|██        | 2/10 [00:01<00:06,  1.20it/s]\u001b[A\n",
      " 30%|███       | 3/10 [00:02<00:05,  1.26it/s]\u001b[A\n",
      " 40%|████      | 4/10 [00:03<00:04,  1.33it/s]\u001b[A\n",
      " 50%|█████     | 5/10 [00:03<00:03,  1.36it/s]\u001b[A\n",
      " 60%|██████    | 6/10 [00:04<00:02,  1.38it/s]\u001b[A\n",
      " 70%|███████   | 7/10 [00:05<00:02,  1.36it/s]\u001b[A\n",
      " 80%|████████  | 8/10 [00:06<00:01,  1.35it/s]\u001b[A\n",
      " 90%|█████████ | 9/10 [00:06<00:00,  1.35it/s]\u001b[A\n",
      "100%|██████████| 10/10 [00:07<00:00,  1.34it/s]\u001b[A\n"
     ]
    },
    {
     "name": "stdout",
     "output_type": "stream",
     "text": [
      "[Feb 07, 19:44:28] [0] \t\t #> Saving chunk 0: \t 3,839 passages and 40,225 embeddings. From #0 onward.\n"
     ]
    },
    {
     "name": "stderr",
     "output_type": "stream",
     "text": [
      "1it [00:40, 40.19s/it]\n",
      "100%|██████████| 1/1 [00:00<00:00, 1990.65it/s]\n",
      "100%|██████████| 2048/2048 [00:00<00:00, 137732.05it/s]\n"
     ]
    },
    {
     "name": "stdout",
     "output_type": "stream",
     "text": [
      "[Feb 07, 19:44:29] [0] \t\t #> Checking all files were saved...\n",
      "[Feb 07, 19:44:29] [0] \t\t Found all files!\n",
      "[Feb 07, 19:44:29] [0] \t\t #> Building IVF...\n",
      "[Feb 07, 19:44:29] [0] \t\t #> Loading codes...\n",
      "[Feb 07, 19:44:29] [0] \t\t Sorting codes...\n",
      "[Feb 07, 19:44:29] [0] \t\t Getting unique codes...\n",
      "[Feb 07, 19:44:29] #> Optimizing IVF to store map from centroids to list of pids..\n",
      "[Feb 07, 19:44:29] #> Building the emb2pid mapping..\n",
      "[Feb 07, 19:44:29] len(emb2pid) = 40225\n",
      "[Feb 07, 19:44:29] #> Saved optimized IVF to /home/sondors/Documents/price/ColBERT/tutorial/bert-base-multilingual-cased-2998/indexes/models_510401_2bits/ivf.pid.pt\n",
      "[Feb 07, 19:44:29] [0] \t\t #> Saving the indexing metadata to /home/sondors/Documents/price/ColBERT/tutorial/bert-base-multilingual-cased-2998/indexes/models_510401_2bits/metadata.json ..\n",
      "#> Joined...\n"
     ]
    }
   ],
   "source": [
    "for cat_id in id_category.keys():\n",
    "    models_colbert = Collection(path=os.path.join(dst_fld, \"tsv\", f\"{cat_id}_models.tsv\"))\n",
    "    index_name = f'models_{cat_id}_{nbits}bits'\n",
    "    indexer = save_index(ckpt_pth, doc_maxlen, nbits, kmeans_niters, nranks, dst_fld, experiment, models_colbert, index_name)"
   ]
  },
  {
   "cell_type": "markdown",
   "metadata": {},
   "source": [
    "### Поиск матча по индексу"
   ]
  },
  {
   "cell_type": "code",
   "execution_count": 5,
   "metadata": {},
   "outputs": [
    {
     "name": "stdout",
     "output_type": "stream",
     "text": [
      "[Feb 07, 19:44:30] #> Loading collection...\n",
      "0M \n",
      "[Feb 07, 19:44:30] Loading segmented_maxsim_cpp extension (set COLBERT_LOAD_TORCH_EXTENSION_VERBOSE=True for more info)...\n",
      "[Feb 07, 19:44:31] #> Loading codec...\n",
      "[Feb 07, 19:44:31] #> Loading IVF...\n",
      "[Feb 07, 19:44:31] Loading segmented_lookup_cpp extension (set COLBERT_LOAD_TORCH_EXTENSION_VERBOSE=True for more info)...\n"
     ]
    },
    {
     "name": "stderr",
     "output_type": "stream",
     "text": [
      "/home/sondors/anaconda3/envs/colbert_cpu/lib/python3.8/site-packages/torch/cuda/amp/grad_scaler.py:118: UserWarning: torch.cuda.amp.GradScaler is enabled, but CUDA is not available.  Disabling.\n",
      "  warnings.warn(\"torch.cuda.amp.GradScaler is enabled, but CUDA is not available.  Disabling.\")\n"
     ]
    },
    {
     "name": "stdout",
     "output_type": "stream",
     "text": [
      "[Feb 07, 19:44:31] #> Loading doclens...\n"
     ]
    },
    {
     "name": "stderr",
     "output_type": "stream",
     "text": [
      "100%|██████████| 1/1 [00:00<00:00, 1810.23it/s]"
     ]
    },
    {
     "name": "stdout",
     "output_type": "stream",
     "text": [
      "[Feb 07, 19:44:31] #> Loading codes and residuals...\n"
     ]
    },
    {
     "name": "stderr",
     "output_type": "stream",
     "text": [
      "\n",
      "100%|██████████| 1/1 [00:00<00:00, 155.60it/s]"
     ]
    },
    {
     "name": "stdout",
     "output_type": "stream",
     "text": [
      "[Feb 07, 19:44:31] Loading filter_pids_cpp extension (set COLBERT_LOAD_TORCH_EXTENSION_VERBOSE=True for more info)...\n"
     ]
    },
    {
     "name": "stderr",
     "output_type": "stream",
     "text": [
      "\n"
     ]
    },
    {
     "name": "stdout",
     "output_type": "stream",
     "text": [
      "[Feb 07, 19:44:32] Loading decompress_residuals_cpp extension (set COLBERT_LOAD_TORCH_EXTENSION_VERBOSE=True for more info)...\n"
     ]
    },
    {
     "name": "stderr",
     "output_type": "stream",
     "text": [
      "/home/sondors/anaconda3/envs/colbert_cpu/lib/python3.8/site-packages/torch/amp/autocast_mode.py:202: UserWarning: User provided device_type of 'cuda', but CUDA is not available. Disabling\n",
      "  warnings.warn('User provided device_type of \\'cuda\\', but CUDA is not available. Disabling')\n"
     ]
    },
    {
     "name": "stdout",
     "output_type": "stream",
     "text": [
      "\n",
      "#> QueryTokenizer.tensorize(batch_text[0], batch_background[0], bsize) ==\n",
      "#> Input: . Samsung Планшет Samsung Galaxy Tab S8, 8 ГБ/128 ГБ, Wi-Fi + Cellular, со стилусом, графит (Global), \t\t True, \t\t None\n",
      "#> Output IDs: torch.Size([32]), tensor([   101,    100,  37077,    524,  19079, 105694,  37077,  29723,  14248,\n",
      "         10457,    156,  11396,    117,    129,    512,  18683,    120,  16196,\n",
      "           512,  18683,    117,  52742,    118,  36448,    116,  29494,  18062,\n",
      "           117,  10956,  67459,  19954,    102])\n",
      "#> Output Mask: torch.Size([32]), tensor([1, 1, 1, 1, 1, 1, 1, 1, 1, 1, 1, 1, 1, 1, 1, 1, 1, 1, 1, 1, 1, 1, 1, 1,\n",
      "        1, 1, 1, 1, 1, 1, 1, 1])\n",
      "\n"
     ]
    },
    {
     "name": "stderr",
     "output_type": "stream",
     "text": [
      "3it [00:00, 298.07it/s]\n"
     ]
    }
   ],
   "source": [
    "offers = {\n",
    "    0: 'Samsung Планшет Samsung Galaxy Tab S8, 8 ГБ/128 ГБ, Wi-Fi + Cellular, со стилусом, графит (Global)',\n",
    "    1: 'Планшет Samsung Galaxy Tab S8 128GB 5G Silver (SM-X706B)',\n",
    "    2: 'Планшет Samsung Galaxy Tab S8+ 128GB Wi-Fi Pink Gold (SM-X800)'\n",
    "    }\n",
    "\n",
    "src_fld = \"/home/sondors/Documents/price/ColBERT/tutorial\"\n",
    "cat_id = 2801 # мобильные телефоны\n",
    "cat_id = 510401 # планшеты\n",
    "index_name = f'models_{cat_id}_{nbits}bits'\n",
    "models_id_colbert = Collection(path=os.path.join(src_fld, \"tsv\", f\"{cat_id}_models_id.tsv\"))\n",
    "\n",
    "top_n = top_n_similar(offers, src_fld, nranks, experiment, index_name, models_id_colbert, 5)"
   ]
  },
  {
   "cell_type": "markdown",
   "metadata": {},
   "source": [
    "### Получаем выдачу топ N моделей для каждого оффера"
   ]
  },
  {
   "cell_type": "code",
   "execution_count": 6,
   "metadata": {},
   "outputs": [
    {
     "name": "stdout",
     "output_type": "stream",
     "text": [
      "Samsung Планшет Samsung Galaxy Tab S8, 8 ГБ/128 ГБ, Wi-Fi + Cellular, со стилусом, графит (Global)\n",
      "\t5144478: Samsung Galaxy Tab S8 --> 28.97\n",
      "\t5144477: Samsung Galaxy Tab S8+ --> 24.97\n",
      "\t937550: Samsung Galaxy Tab S2 9.7 SM-T813 --> 24.0\n",
      "\t5144479: Samsung Galaxy Tab S8 Ultra --> 23.98\n",
      "\t816746: Samsung Galaxy Tab S2 9.7 SM-T810 --> 23.64\n",
      "____________________________________________________________\n",
      "Планшет Samsung Galaxy Tab S8 128GB 5G Silver (SM-X706B)\n",
      "\t5144478: Samsung Galaxy Tab S8 --> 28.15\n",
      "\t5144477: Samsung Galaxy Tab S8+ --> 23.94\n",
      "\t937550: Samsung Galaxy Tab S2 9.7 SM-T813 --> 23.21\n",
      "\t623216: Samsung Galaxy Tab S 8.4 SM-T705 --> 22.82\n",
      "\t816746: Samsung Galaxy Tab S2 9.7 SM-T810 --> 22.65\n",
      "____________________________________________________________\n",
      "Планшет Samsung Galaxy Tab S8+ 128GB Wi-Fi Pink Gold (SM-X800)\n",
      "\t5144477: Samsung Galaxy Tab S8+ --> 26.03\n",
      "\t5144478: Samsung Galaxy Tab S8 --> 20.32\n",
      "\t4509798: Samsung Galaxy Tab S7+ 12.4 128Gb --> 18.63\n",
      "\t937550: Samsung Galaxy Tab S2 9.7 SM-T813 --> 18.35\n",
      "\t5144479: Samsung Galaxy Tab S8 Ultra --> 18.31\n",
      "____________________________________________________________\n"
     ]
    }
   ],
   "source": [
    "for i in range(len(top_n)):\n",
    "    print(offers[i])\n",
    "    for j in range(len(top_n[i]['model_ids'])):\n",
    "        id = top_n[i]['model_ids'][j]\n",
    "        sim = top_n[i]['similarity'][j]\n",
    "        model = list(df_models[df_models.model_id == id]['full_name'])[0]\n",
    "        print(f\"\\t{id}: {model} --> {round(float(sim), 2)}\")\n",
    "    print(\"_\"*60)"
   ]
  },
  {
   "cell_type": "code",
   "execution_count": 7,
   "metadata": {},
   "outputs": [
    {
     "data": {
      "text/plain": [
       "[{'model_ids': [5144478, 5144477, 937550, 5144479, 816746],\n",
       "  'similarity': [28.973285675048828,\n",
       "   24.965259552001953,\n",
       "   23.999181747436523,\n",
       "   23.97533416748047,\n",
       "   23.638072967529297]},\n",
       " {'model_ids': [5144478, 5144477, 937550, 623216, 816746],\n",
       "  'similarity': [28.152374267578125,\n",
       "   23.93535041809082,\n",
       "   23.20758819580078,\n",
       "   22.81966781616211,\n",
       "   22.648759841918945]},\n",
       " {'model_ids': [5144477, 5144478, 4509798, 937550, 5144479],\n",
       "  'similarity': [26.02865982055664,\n",
       "   20.31949234008789,\n",
       "   18.63184928894043,\n",
       "   18.34659194946289,\n",
       "   18.30866813659668]}]"
      ]
     },
     "execution_count": 7,
     "metadata": {},
     "output_type": "execute_result"
    }
   ],
   "source": [
    "top_n"
   ]
  }
 ],
 "metadata": {
  "kernelspec": {
   "display_name": "torch_gpu",
   "language": "python",
   "name": "python3"
  },
  "language_info": {
   "codemirror_mode": {
    "name": "ipython",
    "version": 3
   },
   "file_extension": ".py",
   "mimetype": "text/x-python",
   "name": "python",
   "nbconvert_exporter": "python",
   "pygments_lexer": "ipython3",
   "version": "3.8.18"
  },
  "orig_nbformat": 4
 },
 "nbformat": 4,
 "nbformat_minor": 2
}
